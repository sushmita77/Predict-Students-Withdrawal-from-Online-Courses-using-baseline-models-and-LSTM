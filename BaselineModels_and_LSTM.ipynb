{
 "cells": [
  {
   "cell_type": "markdown",
   "metadata": {},
   "source": [
    "# Prior Identification of Students Withdrawal from Online Courses using Machine and Deep Learning Techniques"
   ]
  },
  {
   "cell_type": "code",
   "execution_count": 1,
   "metadata": {
    "scrolled": true
   },
   "outputs": [
    {
     "name": "stderr",
     "output_type": "stream",
     "text": [
      "Using TensorFlow backend.\n"
     ]
    }
   ],
   "source": [
    "#import all necessary libraries\n",
    "import pandas as pd\n",
    "import matplotlib.pyplot as plt\n",
    "%matplotlib inline \n",
    "import seaborn as sns\n",
    "import numpy as np\n",
    "\n",
    "from sklearn.linear_model import LogisticRegression\n",
    "import keras\n",
    "from keras.models import Sequential\n",
    "from keras.layers import Dense\n",
    "from keras.layers import LSTM,Dropout\n",
    "\n",
    "from keras import Input, layers\n",
    "from keras.layers.merge import add\n",
    "from keras.models import Model\n",
    "\n",
    "from sklearn.model_selection import train_test_split\n",
    "from sklearn.metrics import accuracy_score,recall_score,precision_score,f1_score,confusion_matrix,classification_report\n",
    "from sklearn.preprocessing import StandardScaler\n",
    "from sklearn.model_selection import StratifiedKFold\n",
    "from sklearn.model_selection import cross_val_score\n",
    "\n",
    "import warnings\n",
    "warnings.filterwarnings('ignore')"
   ]
  },
  {
   "cell_type": "code",
   "execution_count": 2,
   "metadata": {},
   "outputs": [],
   "source": [
    "#Load the demographic and VLE data from the OULAD\n",
    "students = pd.read_csv('studentInfo.csv')\n",
    "vle= pd.read_csv('vle.csv')\n",
    "svle=pd.read_csv('studentVle.csv')"
   ]
  },
  {
   "cell_type": "markdown",
   "metadata": {},
   "source": [
    "# Demographic Data"
   ]
  },
  {
   "cell_type": "code",
   "execution_count": 3,
   "metadata": {},
   "outputs": [
    {
     "data": {
      "text/html": [
       "<div>\n",
       "<style scoped>\n",
       "    .dataframe tbody tr th:only-of-type {\n",
       "        vertical-align: middle;\n",
       "    }\n",
       "\n",
       "    .dataframe tbody tr th {\n",
       "        vertical-align: top;\n",
       "    }\n",
       "\n",
       "    .dataframe thead th {\n",
       "        text-align: right;\n",
       "    }\n",
       "</style>\n",
       "<table border=\"1\" class=\"dataframe\">\n",
       "  <thead>\n",
       "    <tr style=\"text-align: right;\">\n",
       "      <th></th>\n",
       "      <th>code_module</th>\n",
       "      <th>code_presentation</th>\n",
       "      <th>id_student</th>\n",
       "      <th>gender</th>\n",
       "      <th>region</th>\n",
       "      <th>highest_education</th>\n",
       "      <th>imd_band</th>\n",
       "      <th>age_band</th>\n",
       "      <th>num_of_prev_attempts</th>\n",
       "      <th>studied_credits</th>\n",
       "      <th>disability</th>\n",
       "      <th>final_result</th>\n",
       "    </tr>\n",
       "  </thead>\n",
       "  <tbody>\n",
       "    <tr>\n",
       "      <th>0</th>\n",
       "      <td>AAA</td>\n",
       "      <td>2013J</td>\n",
       "      <td>11391</td>\n",
       "      <td>M</td>\n",
       "      <td>East Anglian Region</td>\n",
       "      <td>HE Qualification</td>\n",
       "      <td>90-100%</td>\n",
       "      <td>55&lt;=</td>\n",
       "      <td>0</td>\n",
       "      <td>240</td>\n",
       "      <td>N</td>\n",
       "      <td>Pass</td>\n",
       "    </tr>\n",
       "    <tr>\n",
       "      <th>1</th>\n",
       "      <td>AAA</td>\n",
       "      <td>2013J</td>\n",
       "      <td>28400</td>\n",
       "      <td>F</td>\n",
       "      <td>Scotland</td>\n",
       "      <td>HE Qualification</td>\n",
       "      <td>20-30%</td>\n",
       "      <td>35-55</td>\n",
       "      <td>0</td>\n",
       "      <td>60</td>\n",
       "      <td>N</td>\n",
       "      <td>Pass</td>\n",
       "    </tr>\n",
       "    <tr>\n",
       "      <th>2</th>\n",
       "      <td>AAA</td>\n",
       "      <td>2013J</td>\n",
       "      <td>30268</td>\n",
       "      <td>F</td>\n",
       "      <td>North Western Region</td>\n",
       "      <td>A Level or Equivalent</td>\n",
       "      <td>30-40%</td>\n",
       "      <td>35-55</td>\n",
       "      <td>0</td>\n",
       "      <td>60</td>\n",
       "      <td>Y</td>\n",
       "      <td>Withdrawn</td>\n",
       "    </tr>\n",
       "    <tr>\n",
       "      <th>3</th>\n",
       "      <td>AAA</td>\n",
       "      <td>2013J</td>\n",
       "      <td>31604</td>\n",
       "      <td>F</td>\n",
       "      <td>South East Region</td>\n",
       "      <td>A Level or Equivalent</td>\n",
       "      <td>50-60%</td>\n",
       "      <td>35-55</td>\n",
       "      <td>0</td>\n",
       "      <td>60</td>\n",
       "      <td>N</td>\n",
       "      <td>Pass</td>\n",
       "    </tr>\n",
       "    <tr>\n",
       "      <th>4</th>\n",
       "      <td>AAA</td>\n",
       "      <td>2013J</td>\n",
       "      <td>32885</td>\n",
       "      <td>F</td>\n",
       "      <td>West Midlands Region</td>\n",
       "      <td>Lower Than A Level</td>\n",
       "      <td>50-60%</td>\n",
       "      <td>0-35</td>\n",
       "      <td>0</td>\n",
       "      <td>60</td>\n",
       "      <td>N</td>\n",
       "      <td>Pass</td>\n",
       "    </tr>\n",
       "  </tbody>\n",
       "</table>\n",
       "</div>"
      ],
      "text/plain": [
       "  code_module code_presentation  id_student gender                region  \\\n",
       "0         AAA             2013J       11391      M   East Anglian Region   \n",
       "1         AAA             2013J       28400      F              Scotland   \n",
       "2         AAA             2013J       30268      F  North Western Region   \n",
       "3         AAA             2013J       31604      F     South East Region   \n",
       "4         AAA             2013J       32885      F  West Midlands Region   \n",
       "\n",
       "       highest_education imd_band age_band  num_of_prev_attempts  \\\n",
       "0       HE Qualification  90-100%     55<=                     0   \n",
       "1       HE Qualification   20-30%    35-55                     0   \n",
       "2  A Level or Equivalent   30-40%    35-55                     0   \n",
       "3  A Level or Equivalent   50-60%    35-55                     0   \n",
       "4     Lower Than A Level   50-60%     0-35                     0   \n",
       "\n",
       "   studied_credits disability final_result  \n",
       "0              240          N         Pass  \n",
       "1               60          N         Pass  \n",
       "2               60          Y    Withdrawn  \n",
       "3               60          N         Pass  \n",
       "4               60          N         Pass  "
      ]
     },
     "execution_count": 3,
     "metadata": {},
     "output_type": "execute_result"
    }
   ],
   "source": [
    "students.head()"
   ]
  },
  {
   "cell_type": "markdown",
   "metadata": {},
   "source": [
    "The source data only consists of records belonging to year 2013 and 2014.\n",
    "\n",
    "However, the model should be robust enough to make predictions in real time for the students enrolled in any particular year.\n",
    "\n",
    "Hence,  more generic presentation i.e. “B” and “J” will be considered in this research to avoid any year dependency.  "
   ]
  },
  {
   "cell_type": "code",
   "execution_count": 4,
   "metadata": {},
   "outputs": [
    {
     "data": {
      "image/png": "[encoded data removed]",
      "text/plain": [
       "<Figure size 432x288 with 1 Axes>"
      ]
     },
     "metadata": {
      "needs_background": "light"
     },
     "output_type": "display_data"
    }
   ],
   "source": [
    "sns.countplot('code_presentation',data=students,order = students['code_presentation'].value_counts().index,palette='Paired')\n",
    "plt.ylabel('')\n",
    "plt.xlabel(' ')\n",
    "plt.title('OULAD Code Presentations')\n",
    "plt.tick_params(bottom=False)"
   ]
  },
  {
   "cell_type": "code",
   "execution_count": 5,
   "metadata": {},
   "outputs": [
    {
     "data": {
      "text/plain": [
       "code_module                0\n",
       "code_presentation          0\n",
       "id_student                 0\n",
       "gender                     0\n",
       "region                     0\n",
       "highest_education          0\n",
       "imd_band                1111\n",
       "age_band                   0\n",
       "num_of_prev_attempts       0\n",
       "studied_credits            0\n",
       "disability                 0\n",
       "final_result               0\n",
       "dtype: int64"
      ]
     },
     "execution_count": 5,
     "metadata": {},
     "output_type": "execute_result"
    }
   ],
   "source": [
    "# Check the missing entries in OUTLAD\n",
    "students.isnull().sum()"
   ]
  },
  {
   "cell_type": "code",
   "execution_count": 6,
   "metadata": {},
   "outputs": [],
   "source": [
    "#Impute the missing values\n",
    "students.imd_band.fillna('20-30%',inplace=True)"
   ]
  },
  {
   "cell_type": "code",
   "execution_count": 7,
   "metadata": {
    "scrolled": true
   },
   "outputs": [
    {
     "data": {
      "image/png": "[encoded data removed]",
      "text/plain": [
       "<Figure size 432x288 with 1 Axes>"
      ]
     },
     "metadata": {
      "needs_background": "light"
     },
     "output_type": "display_data"
    }
   ],
   "source": [
    "sns.countplot('final_result',data=students,palette='Set1')\n",
    "plt.ylabel('')\n",
    "plt.xlabel(' ')\n",
    "plt.title('OULAD Student Results')\n",
    "plt.tick_params(bottom=False)"
   ]
  },
  {
   "cell_type": "markdown",
   "metadata": {},
   "source": [
    "There are four categories of results. This research aims to predict the students that will either continue the course or Withdraw from a course.\n",
    "\n",
    "Hence, records from three categories are considered (Pass, Withdraw and Distinction). The Pass and Distinction will be combined as the \n",
    "Pass category.\n",
    "\n",
    "This becomes a binary classification problem to predict whether students dropout from course or not. "
   ]
  },
  {
   "cell_type": "code",
   "execution_count": 8,
   "metadata": {},
   "outputs": [
    {
     "data": {
      "image/png": "[encoded data removed]",
      "text/plain": [
       "<Figure size 432x288 with 1 Axes>"
      ]
     },
     "metadata": {
      "needs_background": "light"
     },
     "output_type": "display_data"
    }
   ],
   "source": [
    "cat= ['Pass','Withdrawn','Distinction']\n",
    "students =students[students['final_result'].isin(cat)]\n",
    "students.final_result = students.final_result.apply(lambda x: x  if x=='Withdrawn' else 'Pass')\n",
    "sns.countplot('final_result',data=students,palette='Set1')\n",
    "plt.ylabel('')\n",
    "plt.xlabel(' ')\n",
    "plt.title('OULAD Student Results')\n",
    "plt.tick_params(bottom=False)"
   ]
  },
  {
   "cell_type": "code",
   "execution_count": 9,
   "metadata": {},
   "outputs": [
    {
     "data": {
      "text/plain": [
       "Pass         15385\n",
       "Withdrawn    10156\n",
       "Name: final_result, dtype: int64"
      ]
     },
     "execution_count": 9,
     "metadata": {},
     "output_type": "execute_result"
    }
   ],
   "source": [
    "#class distribution\n",
    "students.final_result.value_counts()"
   ]
  },
  {
   "cell_type": "code",
   "execution_count": 10,
   "metadata": {},
   "outputs": [],
   "source": [
    "# Map Pass to 1 and Withdraw to 0\n",
    "students.final_result = students.final_result.apply(lambda x: 1 if x==\"Pass\" else 0)"
   ]
  },
  {
   "cell_type": "markdown",
   "metadata": {},
   "source": [
    "\n",
    "# Logistic Regression on Demographic Data"
   ]
  },
  {
   "cell_type": "code",
   "execution_count": 12,
   "metadata": {},
   "outputs": [],
   "source": [
    "demo_data=students.copy()"
   ]
  },
  {
   "cell_type": "code",
   "execution_count": 13,
   "metadata": {},
   "outputs": [
    {
     "name": "stderr",
     "output_type": "stream",
     "text": [
      "No handles with labels found to put in legend.\n"
     ]
    },
    {
     "data": {
      "image/png": "[encoded data removed]",
      "text/plain": [
       "<Figure size 432x288 with 1 Axes>"
      ]
     },
     "metadata": {
      "needs_background": "light"
     },
     "output_type": "display_data"
    }
   ],
   "source": [
    "# Select only the semester month part of the presentation i.e. \"B\" or \"J\" respectively\n",
    "\n",
    "demo_data['code_presentation']=demo_data.code_presentation.apply(lambda x: str(x)[-1])\n",
    "\n",
    "sns.countplot('code_presentation',data=demo_data,order = demo_data['code_presentation'].value_counts().index,palette='Paired')\n",
    "plt.ylabel('')\n",
    "plt.xlabel(' ')\n",
    "plt.legend()\n",
    "plt.title('OULAD Code Presentations')\n",
    "plt.tick_params(bottom=False)"
   ]
  },
  {
   "cell_type": "code",
   "execution_count": 14,
   "metadata": {},
   "outputs": [
    {
     "data": {
      "text/plain": [
       "LogisticRegression(C=1.0, class_weight=None, dual=False, fit_intercept=True,\n",
       "                   intercept_scaling=1, l1_ratio=None, max_iter=100,\n",
       "                   multi_class='auto', n_jobs=None, penalty='l2',\n",
       "                   random_state=None, solver='lbfgs', tol=0.0001, verbose=0,\n",
       "                   warm_start=False)"
      ]
     },
     "execution_count": 14,
     "metadata": {},
     "output_type": "execute_result"
    }
   ],
   "source": [
    "#Create dummy variables and train the LR model\n",
    "\n",
    "df = pd.get_dummies(demo_data, columns=['code_module','code_presentation','gender', 'region', 'highest_education','imd_band','age_band','disability'],drop_first=True)\n",
    "\n",
    "y = df.final_result\n",
    "X = df.drop(['final_result','id_student'],axis=1)\n",
    "\n",
    "x_train_d , x_test_d , y_train_d , y_test_d = train_test_split(X,y, test_size=0.25,random_state=0)\n",
    "\n",
    "lr= LogisticRegression()\n",
    "lr.fit(x_train_d,y_train_d)"
   ]
  },
  {
   "cell_type": "markdown",
   "metadata": {},
   "source": [
    "Check for Data Imbalance in the Training Set : There are 11550 Pass instances and only 7605 withdrawn instances. "
   ]
  },
  {
   "cell_type": "code",
   "execution_count": 16,
   "metadata": {},
   "outputs": [
    {
     "data": {
      "text/plain": [
       "1    11550\n",
       "0     7605\n",
       "Name: final_result, dtype: int64"
      ]
     },
     "execution_count": 16,
     "metadata": {},
     "output_type": "execute_result"
    }
   ],
   "source": [
    "y_train_d.value_counts()"
   ]
  },
  {
   "cell_type": "code",
   "execution_count": 17,
   "metadata": {},
   "outputs": [
    {
     "name": "stdout",
     "output_type": "stream",
     "text": [
      "\n",
      "         Logistic Regression Results on Demographic Details without SMOTE\n",
      "\n",
      "  Accuracy: 66.2386   F-Score:  0.75 \t   10-fold  Accuracy 66.35   F-Score:  0.75\n"
     ]
    }
   ],
   "source": [
    "y_pred=lr.predict(x_test_d)\n",
    "print(\"\")\n",
    "print(\"         Logistic Regression Results on Demographic Details without SMOTE\")\n",
    "print(\"\")\n",
    "print(\"  Accuracy: %.4f   F-Score:  %.2f\" % (accuracy_score(y_test_d,y_pred)*100, f1_score(y_test_d,y_pred)),\\\n",
    "      \"\\t   10-fold  Accuracy %.2f   F-Score:  %.2f\" %(cross_val_score(lr,x_train_d,y_train_d,cv=10).mean()*100,\\\n",
    "                                                   cross_val_score(lr, x_train_d, y_train_d, cv=10, scoring='f1').mean()))\n"
   ]
  },
  {
   "cell_type": "markdown",
   "metadata": {},
   "source": [
    "The main objective of this research is to predict maximum number of students that could dropout from a course. \n",
    "\n",
    "The below confusion matrix shows the model correctly predicted 1019 withdrawn instances. To improve the model performance correct withdrawn predictions should increase."
   ]
  },
  {
   "cell_type": "code",
   "execution_count": 20,
   "metadata": {},
   "outputs": [],
   "source": [
    "matrix=confusion_matrix(y_test_d,y_pred)"
   ]
  },
  {
   "cell_type": "code",
   "execution_count": 21,
   "metadata": {},
   "outputs": [
    {
     "name": "stdout",
     "output_type": "stream",
     "text": [
      "\t\t\tActual Withdrawn\tActual Pass\n",
      "Predicted Withdrawn \t1019\t\t\t1532 \n",
      "Predcited Pass \t\t624\t\t\t3211\n"
     ]
    }
   ],
   "source": [
    "\n",
    "print(\"\\t\\t\\tActual Withdrawn\\tActual Pass\")\n",
    "print(\"Predicted Withdrawn \\t{}\\t\\t\\t{} \\nPredcited Pass \\t\\t{}\\t\\t\\t{}\".format(matrix[0][0],matrix[0][1],matrix[1][0],matrix[1][1]))\n"
   ]
  },
  {
   "cell_type": "markdown",
   "metadata": {},
   "source": [
    "## SMOTE Analysis on Demographic Data"
   ]
  },
  {
   "cell_type": "markdown",
   "metadata": {},
   "source": [
    "The LR results seen above seem to be baised towards class Pass. This can be observed below, the training dataset is imbalanced and has  more data points related to the Pass Category. SMOTE  method helps to overcome this issue by oversampling the instances for Withdraw category."
   ]
  },
  {
   "cell_type": "code",
   "execution_count": 22,
   "metadata": {},
   "outputs": [
    {
     "data": {
      "text/plain": [
       "1    11550\n",
       "0     7605\n",
       "Name: final_result, dtype: int64"
      ]
     },
     "execution_count": 22,
     "metadata": {},
     "output_type": "execute_result"
    }
   ],
   "source": [
    "y_train_d.value_counts()"
   ]
  },
  {
   "cell_type": "code",
   "execution_count": 23,
   "metadata": {},
   "outputs": [
    {
     "data": {
      "text/plain": [
       "LogisticRegression(C=1.0, class_weight=None, dual=False, fit_intercept=True,\n",
       "                   intercept_scaling=1, l1_ratio=None, max_iter=100,\n",
       "                   multi_class='auto', n_jobs=None, penalty='l2',\n",
       "                   random_state=None, solver='lbfgs', tol=0.0001, verbose=0,\n",
       "                   warm_start=False)"
      ]
     },
     "execution_count": 23,
     "metadata": {},
     "output_type": "execute_result"
    }
   ],
   "source": [
    "#Implement SMOTE\n",
    "from imblearn.over_sampling import SMOTE\n",
    "sm = SMOTE(random_state=1)\n",
    "X_train_res, y_train_res = sm.fit_sample(x_train_d, y_train_d.ravel())\n",
    "\n",
    "lr= LogisticRegression()\n",
    "lr.fit(X_train_res,y_train_res)"
   ]
  },
  {
   "cell_type": "code",
   "execution_count": 24,
   "metadata": {},
   "outputs": [
    {
     "name": "stdout",
     "output_type": "stream",
     "text": [
      "\n",
      "       Logistic Regression Results on Demographic Details with SMOTE\n",
      "\n",
      "  Accuracy: 64.0620   F-Score:  0.69 \t   10-fold  Accuracy 65.01   F-Score:  0.66\n"
     ]
    }
   ],
   "source": [
    "y_pred = lr.predict(x_test_d)\n",
    "print(\"\")\n",
    "print(\"       Logistic Regression Results on Demographic Details with SMOTE\")\n",
    "print(\"\")\n",
    "print(\"  Accuracy: %.4f   F-Score:  %.2f\" % (accuracy_score(y_test_d,y_pred)*100, f1_score(y_test_d,y_pred)),\\\n",
    "      \"\\t   10-fold  Accuracy %.2f   F-Score:  %.2f\" %(cross_val_score(lr,X_train_res,y_train_res,cv=10).mean()*100,\\\n",
    "                                                   cross_val_score(lr, X_train_res, y_train_res, cv=10, scoring='f1').mean()))\n"
   ]
  },
  {
   "cell_type": "markdown",
   "metadata": {},
   "source": [
    "As seen below, with this oversampling technique 1504 students are correctly classified as Withdraw."
   ]
  },
  {
   "cell_type": "code",
   "execution_count": 25,
   "metadata": {},
   "outputs": [],
   "source": [
    "matrix=confusion_matrix(y_test_d,y_pred)"
   ]
  },
  {
   "cell_type": "code",
   "execution_count": 26,
   "metadata": {},
   "outputs": [
    {
     "name": "stdout",
     "output_type": "stream",
     "text": [
      "\t\t\tActual Withdrawn\tActual Pass\n",
      "Predicted Withdrawn \t1504\t\t\t1047 \n",
      "Predicted Pass \t\t1248\t\t\t2587\n"
     ]
    }
   ],
   "source": [
    "print(\"\\t\\t\\tActual Withdrawn\\tActual Pass\")\n",
    "print(\"Predicted Withdrawn \\t{}\\t\\t\\t{} \\nPredicted Pass \\t\\t{}\\t\\t\\t{}\".format(matrix[0][0],matrix[0][1],matrix[1][0],matrix[1][1]))\n"
   ]
  },
  {
   "cell_type": "markdown",
   "metadata": {},
   "source": [
    "# VLE Data"
   ]
  },
  {
   "cell_type": "markdown",
   "metadata": {},
   "source": [
    "The student interactions with the online platform are recorded and will be analyzed to predict the withdrawals."
   ]
  },
  {
   "cell_type": "code",
   "execution_count": 11,
   "metadata": {},
   "outputs": [
    {
     "data": {
      "text/html": [
       "<div>\n",
       "<style scoped>\n",
       "    .dataframe tbody tr th:only-of-type {\n",
       "        vertical-align: middle;\n",
       "    }\n",
       "\n",
       "    .dataframe tbody tr th {\n",
       "        vertical-align: top;\n",
       "    }\n",
       "\n",
       "    .dataframe thead th {\n",
       "        text-align: right;\n",
       "    }\n",
       "</style>\n",
       "<table border=\"1\" class=\"dataframe\">\n",
       "  <thead>\n",
       "    <tr style=\"text-align: right;\">\n",
       "      <th></th>\n",
       "      <th>code_module</th>\n",
       "      <th>code_presentation</th>\n",
       "      <th>id_student</th>\n",
       "      <th>id_site</th>\n",
       "      <th>date</th>\n",
       "      <th>sum_click</th>\n",
       "    </tr>\n",
       "  </thead>\n",
       "  <tbody>\n",
       "    <tr>\n",
       "      <th>0</th>\n",
       "      <td>AAA</td>\n",
       "      <td>2013J</td>\n",
       "      <td>28400</td>\n",
       "      <td>546652</td>\n",
       "      <td>-10</td>\n",
       "      <td>4</td>\n",
       "    </tr>\n",
       "    <tr>\n",
       "      <th>1</th>\n",
       "      <td>AAA</td>\n",
       "      <td>2013J</td>\n",
       "      <td>28400</td>\n",
       "      <td>546652</td>\n",
       "      <td>-10</td>\n",
       "      <td>1</td>\n",
       "    </tr>\n",
       "    <tr>\n",
       "      <th>2</th>\n",
       "      <td>AAA</td>\n",
       "      <td>2013J</td>\n",
       "      <td>28400</td>\n",
       "      <td>546652</td>\n",
       "      <td>-10</td>\n",
       "      <td>1</td>\n",
       "    </tr>\n",
       "    <tr>\n",
       "      <th>3</th>\n",
       "      <td>AAA</td>\n",
       "      <td>2013J</td>\n",
       "      <td>28400</td>\n",
       "      <td>546614</td>\n",
       "      <td>-10</td>\n",
       "      <td>11</td>\n",
       "    </tr>\n",
       "    <tr>\n",
       "      <th>4</th>\n",
       "      <td>AAA</td>\n",
       "      <td>2013J</td>\n",
       "      <td>28400</td>\n",
       "      <td>546714</td>\n",
       "      <td>-10</td>\n",
       "      <td>1</td>\n",
       "    </tr>\n",
       "  </tbody>\n",
       "</table>\n",
       "</div>"
      ],
      "text/plain": [
       "  code_module code_presentation  id_student  id_site  date  sum_click\n",
       "0         AAA             2013J       28400   546652   -10          4\n",
       "1         AAA             2013J       28400   546652   -10          1\n",
       "2         AAA             2013J       28400   546652   -10          1\n",
       "3         AAA             2013J       28400   546614   -10         11\n",
       "4         AAA             2013J       28400   546714   -10          1"
      ]
     },
     "execution_count": 11,
     "metadata": {},
     "output_type": "execute_result"
    }
   ],
   "source": [
    "svle.head()"
   ]
  },
  {
   "cell_type": "markdown",
   "metadata": {},
   "source": [
    "# Pre-Processing"
   ]
  },
  {
   "cell_type": "markdown",
   "metadata": {},
   "source": [
    "It is important to identify the students that can withdraw a course in the early weeks of the course duration. Hence, it is necessary to perform the student analysis on a weekly basis. The date reported of accessing the materials needs to be mapped accordingly to respective week numbers."
   ]
  },
  {
   "cell_type": "code",
   "execution_count": 12,
   "metadata": {},
   "outputs": [],
   "source": [
    "date_to_be_mapped =svle.date.unique()\n",
    "date_week_mapping ={}"
   ]
  },
  {
   "cell_type": "code",
   "execution_count": 13,
   "metadata": {},
   "outputs": [],
   "source": [
    "# map the date to its respectiev week number\n",
    "date_week_mapping[0]=0\n",
    "for date in date_to_be_mapped:\n",
    "    start =1\n",
    "    end =7\n",
    "    for week in range(0,39):\n",
    "        if date>0:                                        # Check for date after course starts\n",
    "            if date >= start and date<=end:\n",
    "                date_week_mapping[date]= week\n",
    "                break \n",
    "        else:                                             # Check for date where student access the course before it starts\n",
    "            temp_date = -date\n",
    "            if temp_date >= start and temp_date<=end:\n",
    "                date_week_mapping[date]= -(week+1)\n",
    "                break \n",
    "        start= start+ 7 \n",
    "        end = end +7"
   ]
  },
  {
   "cell_type": "markdown",
   "metadata": {},
   "source": [
    "The date of each interaction is mapped to its corresponding week number(0-38) of the ongoing course. \n",
    "\n",
    "Besides, some interactions are associated with negative week number. These interactions correspond to 0-4 weeks before the module presentation begins. \n",
    "\n",
    "Negative week represent those students that access the VLE content weeks before the course starts."
   ]
  },
  {
   "cell_type": "code",
   "execution_count": 14,
   "metadata": {},
   "outputs": [
    {
     "data": {
      "text/html": [
       "<div>\n",
       "<style scoped>\n",
       "    .dataframe tbody tr th:only-of-type {\n",
       "        vertical-align: middle;\n",
       "    }\n",
       "\n",
       "    .dataframe tbody tr th {\n",
       "        vertical-align: top;\n",
       "    }\n",
       "\n",
       "    .dataframe thead th {\n",
       "        text-align: right;\n",
       "    }\n",
       "</style>\n",
       "<table border=\"1\" class=\"dataframe\">\n",
       "  <thead>\n",
       "    <tr style=\"text-align: right;\">\n",
       "      <th></th>\n",
       "      <th>code_module</th>\n",
       "      <th>code_presentation</th>\n",
       "      <th>id_student</th>\n",
       "      <th>id_site</th>\n",
       "      <th>date</th>\n",
       "      <th>sum_click</th>\n",
       "      <th>week</th>\n",
       "    </tr>\n",
       "  </thead>\n",
       "  <tbody>\n",
       "    <tr>\n",
       "      <th>0</th>\n",
       "      <td>AAA</td>\n",
       "      <td>2013J</td>\n",
       "      <td>28400</td>\n",
       "      <td>546652</td>\n",
       "      <td>-10</td>\n",
       "      <td>4</td>\n",
       "      <td>-2</td>\n",
       "    </tr>\n",
       "    <tr>\n",
       "      <th>1</th>\n",
       "      <td>AAA</td>\n",
       "      <td>2013J</td>\n",
       "      <td>28400</td>\n",
       "      <td>546652</td>\n",
       "      <td>-10</td>\n",
       "      <td>1</td>\n",
       "      <td>-2</td>\n",
       "    </tr>\n",
       "    <tr>\n",
       "      <th>2</th>\n",
       "      <td>AAA</td>\n",
       "      <td>2013J</td>\n",
       "      <td>28400</td>\n",
       "      <td>546652</td>\n",
       "      <td>-10</td>\n",
       "      <td>1</td>\n",
       "      <td>-2</td>\n",
       "    </tr>\n",
       "  </tbody>\n",
       "</table>\n",
       "</div>"
      ],
      "text/plain": [
       "  code_module code_presentation  id_student  id_site  date  sum_click  week\n",
       "0         AAA             2013J       28400   546652   -10          4    -2\n",
       "1         AAA             2013J       28400   546652   -10          1    -2\n",
       "2         AAA             2013J       28400   546652   -10          1    -2"
      ]
     },
     "execution_count": 14,
     "metadata": {},
     "output_type": "execute_result"
    }
   ],
   "source": [
    "# Add the week Column to the dataframe\n",
    "svle['week']= svle.date.apply(lambda x : date_week_mapping[x])\n",
    "svle.head(3)"
   ]
  },
  {
   "cell_type": "code",
   "execution_count": 15,
   "metadata": {},
   "outputs": [
    {
     "data": {
      "image/png": "[encoded data removed]",
      "text/plain": [
       "<Figure size 432x288 with 1 Axes>"
      ]
     },
     "metadata": {
      "needs_background": "light"
     },
     "output_type": "display_data"
    }
   ],
   "source": [
    "# clickstreams pattern observed over the 38 weeks\n",
    "import matplotlib.pyplot as plt\n",
    "%matplotlib inline\n",
    "fig, ax = plt.subplots()\n",
    "svle.groupby('week').sum_click.sum().plot(kind=\"line\",ax=ax)\n",
    "plt.xlabel('Week')\n",
    "plt.ylabel(' ')\n",
    "plt.title('Overall clickstreams observed over weeks')\n",
    "ax.ticklabel_format(useOffset=False, style='plain')\n",
    "plt.show()"
   ]
  },
  {
   "cell_type": "markdown",
   "metadata": {},
   "source": [
    "The VLE clicks are observed across the Pass and Withdrawn categories"
   ]
  },
  {
   "cell_type": "code",
   "execution_count": 16,
   "metadata": {},
   "outputs": [],
   "source": [
    "merged_data =pd.merge(svle,students,how='inner',left_on=(\"code_module\",\"code_presentation\",\"id_student\"),right_on=(\"code_module\",\"code_presentation\",\"id_student\"))\n",
    "passed_cases=merged_data[merged_data.final_result==1]\n",
    "withdrawn_cases=merged_data[merged_data.final_result==0]"
   ]
  },
  {
   "cell_type": "code",
   "execution_count": 17,
   "metadata": {},
   "outputs": [
    {
     "data": {
      "image/png": "[encoded data removed]",
      "text/plain": [
       "<Figure size 432x288 with 1 Axes>"
      ]
     },
     "metadata": {
      "needs_background": "light"
     },
     "output_type": "display_data"
    }
   ],
   "source": [
    "# clickstreams pattern observed over the 38 weeks for both the categories\n",
    "fig, ax = plt.subplots()\n",
    "passed_cases.groupby(['week']).sum_click.sum().plot(kind=\"line\",ax=ax,color='green',label=\"Pass\")\n",
    "withdrawn_cases.groupby(['week']).sum_click.sum().plot(kind=\"line\",ax=ax,color='red',label=\"Withdrawn\")\n",
    "plt.xlabel('Week')\n",
    "plt.ylabel(' ')\n",
    "plt.legend()\n",
    "plt.title('Overall clickstreams across the two categories')\n",
    "ax.ticklabel_format(useOffset=False, style='plain')\n",
    "plt.tick_params(bottom=False)"
   ]
  },
  {
   "cell_type": "code",
   "execution_count": 18,
   "metadata": {},
   "outputs": [
    {
     "name": "stdout",
     "output_type": "stream",
     "text": [
      "               Data Statistics              \n",
      "\n",
      "Total Withdraw Clicks:               3188477\n",
      "Total Pass Clicks:                   31819757\n",
      "Student count in Pass category       14578\n",
      "Student count in Withdrawn category  6557\n"
     ]
    }
   ],
   "source": [
    "print(\"               Data Statistics              \")\n",
    "print(\"\")\n",
    "print(\"Total Withdraw Clicks:              \", withdrawn_cases['sum_click'].sum())\n",
    "print(\"Total Pass Clicks:                  \", passed_cases['sum_click'].sum())\n",
    "print(\"Student count in Pass category      \", passed_cases.id_student.nunique())\n",
    "print(\"Student count in Withdrawn category \", withdrawn_cases.id_student.nunique())"
   ]
  },
  {
   "cell_type": "markdown",
   "metadata": {},
   "source": [
    "For each student the clickstreams are aggregated week-wise to perform analysis on a weekly basis."
   ]
  },
  {
   "cell_type": "code",
   "execution_count": 19,
   "metadata": {},
   "outputs": [
    {
     "data": {
      "text/html": [
       "<div>\n",
       "<style scoped>\n",
       "    .dataframe tbody tr th:only-of-type {\n",
       "        vertical-align: middle;\n",
       "    }\n",
       "\n",
       "    .dataframe tbody tr th {\n",
       "        vertical-align: top;\n",
       "    }\n",
       "\n",
       "    .dataframe thead th {\n",
       "        text-align: right;\n",
       "    }\n",
       "</style>\n",
       "<table border=\"1\" class=\"dataframe\">\n",
       "  <thead>\n",
       "    <tr style=\"text-align: right;\">\n",
       "      <th></th>\n",
       "      <th>code_module</th>\n",
       "      <th>code_presentation</th>\n",
       "      <th>id_student</th>\n",
       "      <th>week</th>\n",
       "      <th>sum_click</th>\n",
       "    </tr>\n",
       "  </thead>\n",
       "  <tbody>\n",
       "    <tr>\n",
       "      <th>0</th>\n",
       "      <td>AAA</td>\n",
       "      <td>2013J</td>\n",
       "      <td>11391</td>\n",
       "      <td>-1</td>\n",
       "      <td>98</td>\n",
       "    </tr>\n",
       "    <tr>\n",
       "      <th>1</th>\n",
       "      <td>AAA</td>\n",
       "      <td>2013J</td>\n",
       "      <td>11391</td>\n",
       "      <td>0</td>\n",
       "      <td>183</td>\n",
       "    </tr>\n",
       "    <tr>\n",
       "      <th>2</th>\n",
       "      <td>AAA</td>\n",
       "      <td>2013J</td>\n",
       "      <td>11391</td>\n",
       "      <td>1</td>\n",
       "      <td>20</td>\n",
       "    </tr>\n",
       "  </tbody>\n",
       "</table>\n",
       "</div>"
      ],
      "text/plain": [
       "  code_module code_presentation  id_student  week  sum_click\n",
       "0         AAA             2013J       11391    -1         98\n",
       "1         AAA             2013J       11391     0        183\n",
       "2         AAA             2013J       11391     1         20"
      ]
     },
     "execution_count": 19,
     "metadata": {},
     "output_type": "execute_result"
    }
   ],
   "source": [
    "data = svle.groupby(['code_module','code_presentation','id_student','week']).sum_click.sum().reset_index()\n",
    "data.head(3)"
   ]
  },
  {
   "cell_type": "markdown",
   "metadata": {},
   "source": [
    "Convert the data into wide format to get details of each student and respective courses with all the weeks in a single row. "
   ]
  },
  {
   "cell_type": "code",
   "execution_count": 20,
   "metadata": {},
   "outputs": [
    {
     "data": {
      "text/html": [
       "<div>\n",
       "<style scoped>\n",
       "    .dataframe tbody tr th:only-of-type {\n",
       "        vertical-align: middle;\n",
       "    }\n",
       "\n",
       "    .dataframe tbody tr th {\n",
       "        vertical-align: top;\n",
       "    }\n",
       "\n",
       "    .dataframe thead th {\n",
       "        text-align: right;\n",
       "    }\n",
       "</style>\n",
       "<table border=\"1\" class=\"dataframe\">\n",
       "  <thead>\n",
       "    <tr style=\"text-align: right;\">\n",
       "      <th>week</th>\n",
       "      <th>code_module</th>\n",
       "      <th>code_presentation</th>\n",
       "      <th>id_student</th>\n",
       "      <th>-4</th>\n",
       "      <th>-3</th>\n",
       "      <th>-2</th>\n",
       "      <th>-1</th>\n",
       "      <th>0</th>\n",
       "      <th>1</th>\n",
       "      <th>2</th>\n",
       "      <th>...</th>\n",
       "      <th>29</th>\n",
       "      <th>30</th>\n",
       "      <th>31</th>\n",
       "      <th>32</th>\n",
       "      <th>33</th>\n",
       "      <th>34</th>\n",
       "      <th>35</th>\n",
       "      <th>36</th>\n",
       "      <th>37</th>\n",
       "      <th>38</th>\n",
       "    </tr>\n",
       "  </thead>\n",
       "  <tbody>\n",
       "    <tr>\n",
       "      <th>0</th>\n",
       "      <td>AAA</td>\n",
       "      <td>2013J</td>\n",
       "      <td>11391</td>\n",
       "      <td>0.0</td>\n",
       "      <td>0.0</td>\n",
       "      <td>0.0</td>\n",
       "      <td>98.0</td>\n",
       "      <td>183.0</td>\n",
       "      <td>20.0</td>\n",
       "      <td>100.0</td>\n",
       "      <td>...</td>\n",
       "      <td>43.0</td>\n",
       "      <td>0.0</td>\n",
       "      <td>35.0</td>\n",
       "      <td>15.0</td>\n",
       "      <td>0.0</td>\n",
       "      <td>92.0</td>\n",
       "      <td>0.0</td>\n",
       "      <td>1.0</td>\n",
       "      <td>0.0</td>\n",
       "      <td>0.0</td>\n",
       "    </tr>\n",
       "    <tr>\n",
       "      <th>1</th>\n",
       "      <td>AAA</td>\n",
       "      <td>2013J</td>\n",
       "      <td>28400</td>\n",
       "      <td>0.0</td>\n",
       "      <td>0.0</td>\n",
       "      <td>79.0</td>\n",
       "      <td>136.0</td>\n",
       "      <td>182.0</td>\n",
       "      <td>59.0</td>\n",
       "      <td>37.0</td>\n",
       "      <td>...</td>\n",
       "      <td>21.0</td>\n",
       "      <td>88.0</td>\n",
       "      <td>16.0</td>\n",
       "      <td>1.0</td>\n",
       "      <td>0.0</td>\n",
       "      <td>1.0</td>\n",
       "      <td>0.0</td>\n",
       "      <td>0.0</td>\n",
       "      <td>0.0</td>\n",
       "      <td>0.0</td>\n",
       "    </tr>\n",
       "    <tr>\n",
       "      <th>2</th>\n",
       "      <td>AAA</td>\n",
       "      <td>2013J</td>\n",
       "      <td>30268</td>\n",
       "      <td>0.0</td>\n",
       "      <td>0.0</td>\n",
       "      <td>14.0</td>\n",
       "      <td>88.0</td>\n",
       "      <td>107.0</td>\n",
       "      <td>72.0</td>\n",
       "      <td>0.0</td>\n",
       "      <td>...</td>\n",
       "      <td>0.0</td>\n",
       "      <td>0.0</td>\n",
       "      <td>0.0</td>\n",
       "      <td>0.0</td>\n",
       "      <td>0.0</td>\n",
       "      <td>0.0</td>\n",
       "      <td>0.0</td>\n",
       "      <td>0.0</td>\n",
       "      <td>0.0</td>\n",
       "      <td>0.0</td>\n",
       "    </tr>\n",
       "  </tbody>\n",
       "</table>\n",
       "<p>3 rows × 46 columns</p>\n",
       "</div>"
      ],
      "text/plain": [
       "week code_module code_presentation  id_student   -4   -3    -2     -1      0  \\\n",
       "0            AAA             2013J       11391  0.0  0.0   0.0   98.0  183.0   \n",
       "1            AAA             2013J       28400  0.0  0.0  79.0  136.0  182.0   \n",
       "2            AAA             2013J       30268  0.0  0.0  14.0   88.0  107.0   \n",
       "\n",
       "week     1      2  ...    29    30    31    32   33    34   35   36   37   38  \n",
       "0     20.0  100.0  ...  43.0   0.0  35.0  15.0  0.0  92.0  0.0  1.0  0.0  0.0  \n",
       "1     59.0   37.0  ...  21.0  88.0  16.0   1.0  0.0   1.0  0.0  0.0  0.0  0.0  \n",
       "2     72.0    0.0  ...   0.0   0.0   0.0   0.0  0.0   0.0  0.0  0.0  0.0  0.0  \n",
       "\n",
       "[3 rows x 46 columns]"
      ]
     },
     "execution_count": 20,
     "metadata": {},
     "output_type": "execute_result"
    }
   ],
   "source": [
    "week_processed =data.reset_index().groupby(['code_module','code_presentation','id_student','week'])['sum_click'].aggregate('first').unstack().reset_index()\n",
    "week_processed.fillna(0,inplace=True)\n",
    "week_processed.head(3)"
   ]
  },
  {
   "cell_type": "markdown",
   "metadata": {},
   "source": [
    "Demographic details are also considered, hence combining the demographic and VLE interactions data."
   ]
  },
  {
   "cell_type": "code",
   "execution_count": 21,
   "metadata": {},
   "outputs": [
    {
     "data": {
      "text/html": [
       "<div>\n",
       "<style scoped>\n",
       "    .dataframe tbody tr th:only-of-type {\n",
       "        vertical-align: middle;\n",
       "    }\n",
       "\n",
       "    .dataframe tbody tr th {\n",
       "        vertical-align: top;\n",
       "    }\n",
       "\n",
       "    .dataframe thead th {\n",
       "        text-align: right;\n",
       "    }\n",
       "</style>\n",
       "<table border=\"1\" class=\"dataframe\">\n",
       "  <thead>\n",
       "    <tr style=\"text-align: right;\">\n",
       "      <th></th>\n",
       "      <th>code_module</th>\n",
       "      <th>code_presentation</th>\n",
       "      <th>id_student</th>\n",
       "      <th>gender</th>\n",
       "      <th>region</th>\n",
       "      <th>highest_education</th>\n",
       "      <th>imd_band</th>\n",
       "      <th>age_band</th>\n",
       "      <th>num_of_prev_attempts</th>\n",
       "      <th>studied_credits</th>\n",
       "      <th>...</th>\n",
       "      <th>29</th>\n",
       "      <th>30</th>\n",
       "      <th>31</th>\n",
       "      <th>32</th>\n",
       "      <th>33</th>\n",
       "      <th>34</th>\n",
       "      <th>35</th>\n",
       "      <th>36</th>\n",
       "      <th>37</th>\n",
       "      <th>38</th>\n",
       "    </tr>\n",
       "  </thead>\n",
       "  <tbody>\n",
       "    <tr>\n",
       "      <th>0</th>\n",
       "      <td>AAA</td>\n",
       "      <td>2013J</td>\n",
       "      <td>11391</td>\n",
       "      <td>M</td>\n",
       "      <td>East Anglian Region</td>\n",
       "      <td>HE Qualification</td>\n",
       "      <td>90-100%</td>\n",
       "      <td>55&lt;=</td>\n",
       "      <td>0</td>\n",
       "      <td>240</td>\n",
       "      <td>...</td>\n",
       "      <td>43.0</td>\n",
       "      <td>0.0</td>\n",
       "      <td>35.0</td>\n",
       "      <td>15.0</td>\n",
       "      <td>0.0</td>\n",
       "      <td>92.0</td>\n",
       "      <td>0.0</td>\n",
       "      <td>1.0</td>\n",
       "      <td>0.0</td>\n",
       "      <td>0.0</td>\n",
       "    </tr>\n",
       "    <tr>\n",
       "      <th>1</th>\n",
       "      <td>AAA</td>\n",
       "      <td>2013J</td>\n",
       "      <td>28400</td>\n",
       "      <td>F</td>\n",
       "      <td>Scotland</td>\n",
       "      <td>HE Qualification</td>\n",
       "      <td>20-30%</td>\n",
       "      <td>35-55</td>\n",
       "      <td>0</td>\n",
       "      <td>60</td>\n",
       "      <td>...</td>\n",
       "      <td>21.0</td>\n",
       "      <td>88.0</td>\n",
       "      <td>16.0</td>\n",
       "      <td>1.0</td>\n",
       "      <td>0.0</td>\n",
       "      <td>1.0</td>\n",
       "      <td>0.0</td>\n",
       "      <td>0.0</td>\n",
       "      <td>0.0</td>\n",
       "      <td>0.0</td>\n",
       "    </tr>\n",
       "    <tr>\n",
       "      <th>2</th>\n",
       "      <td>AAA</td>\n",
       "      <td>2013J</td>\n",
       "      <td>30268</td>\n",
       "      <td>F</td>\n",
       "      <td>North Western Region</td>\n",
       "      <td>A Level or Equivalent</td>\n",
       "      <td>30-40%</td>\n",
       "      <td>35-55</td>\n",
       "      <td>0</td>\n",
       "      <td>60</td>\n",
       "      <td>...</td>\n",
       "      <td>0.0</td>\n",
       "      <td>0.0</td>\n",
       "      <td>0.0</td>\n",
       "      <td>0.0</td>\n",
       "      <td>0.0</td>\n",
       "      <td>0.0</td>\n",
       "      <td>0.0</td>\n",
       "      <td>0.0</td>\n",
       "      <td>0.0</td>\n",
       "      <td>0.0</td>\n",
       "    </tr>\n",
       "  </tbody>\n",
       "</table>\n",
       "<p>3 rows × 55 columns</p>\n",
       "</div>"
      ],
      "text/plain": [
       "  code_module code_presentation  id_student gender                region  \\\n",
       "0         AAA             2013J       11391      M   East Anglian Region   \n",
       "1         AAA             2013J       28400      F              Scotland   \n",
       "2         AAA             2013J       30268      F  North Western Region   \n",
       "\n",
       "       highest_education imd_band age_band  num_of_prev_attempts  \\\n",
       "0       HE Qualification  90-100%     55<=                     0   \n",
       "1       HE Qualification   20-30%    35-55                     0   \n",
       "2  A Level or Equivalent   30-40%    35-55                     0   \n",
       "\n",
       "   studied_credits  ...    29    30    31    32   33    34   35   36   37   38  \n",
       "0              240  ...  43.0   0.0  35.0  15.0  0.0  92.0  0.0  1.0  0.0  0.0  \n",
       "1               60  ...  21.0  88.0  16.0   1.0  0.0   1.0  0.0  0.0  0.0  0.0  \n",
       "2               60  ...   0.0   0.0   0.0   0.0  0.0   0.0  0.0  0.0  0.0  0.0  \n",
       "\n",
       "[3 rows x 55 columns]"
      ]
     },
     "execution_count": 21,
     "metadata": {},
     "output_type": "execute_result"
    }
   ],
   "source": [
    "student_week_data=  pd.merge(students,week_processed,how='inner',left_on=(\"code_module\",\"code_presentation\",\"id_student\"),right_on=(\"code_module\",\"code_presentation\",\"id_student\"))\n",
    "student_week_data.head(3)"
   ]
  },
  {
   "cell_type": "markdown",
   "metadata": {},
   "source": [
    "# LR on Demographics and clickstreams aggregated by weeks"
   ]
  },
  {
   "cell_type": "markdown",
   "metadata": {},
   "source": [
    "It will be useful to perform a prior identification of the dropouts to make the predictions in the real time.\n",
    "\n",
    "Hence it would be useful to analyse the performance of the model after week 05, week 10 , week 15 etc. "
   ]
  },
  {
   "cell_type": "code",
   "execution_count": 49,
   "metadata": {},
   "outputs": [],
   "source": [
    "def vle_week_wise_analysis(student_week_data, week_selection, week_no, check_confusion_matrix, if_smote):\n",
    "    \n",
    "    student_week_data = student_week_data.iloc[:,0:week_selection]\n",
    "    stu_vle_data=student_week_data.copy()\n",
    "    stu_vle_data['code_presentation']=stu_vle_data.code_presentation.apply(lambda x: str(x)[-1])\n",
    "    \n",
    "    w_df = pd.get_dummies(stu_vle_data, columns=['code_module','code_presentation','gender', 'region', 'highest_education','imd_band','age_band','disability'],drop_first=True)\n",
    "    y = w_df.final_result\n",
    "    X = w_df.drop(['final_result','id_student'],axis=1)\n",
    "    x_train_d , x_test_d , y_train_d , y_test_d = train_test_split(X,y, test_size=0.25,random_state=1)\n",
    "    lr= LogisticRegression()\n",
    "    \n",
    "    if(if_smote):\n",
    "        sm = SMOTE(random_state=1)\n",
    "        x_train_d, y_train_d = sm.fit_sample(x_train_d, y_train_d.ravel())\n",
    "            \n",
    "    lr.fit(x_train_d,y_train_d)\n",
    "    y_pred= lr.predict(x_test_d)\n",
    "    \n",
    "    if(check_confusion_matrix):\n",
    "        matrix=confusion_matrix(y_pred,y_test_d)\n",
    "        print(\"\\t\\t\\tActual Withdrawn\\tActual Pass\")\n",
    "        print(\"Predicted Withdrawn \\t{}\\t\\t\\t{} \\nPredicted Pass \\t\\t{}\\t\\t\\t{}\".format(matrix[0][0],matrix[0][1],matrix[1][0],matrix[1][1]))\n",
    "    \n",
    "    else:\n",
    "        print(\"Week\",week_no,\"  Accuracy: %.2f  F-Score:  %.2f\" % (accuracy_score(y_test_d,y_pred)*100, f1_score(y_test_d,y_pred)),\"\\t10-fold  Accuracy %.2f\\tF-Score:  %.2f\" %(cross_val_score(lr,x_train_d,y_train_d,cv=10).mean()*100,cross_val_score(lr, x_train_d, y_train_d, cv=10, scoring='f1').mean()))\n"
   ]
  },
  {
   "cell_type": "code",
   "execution_count": 50,
   "metadata": {},
   "outputs": [
    {
     "name": "stdout",
     "output_type": "stream",
     "text": [
      "\t\t\t  Clickstreams Aggregated by Weeks\n",
      "\n",
      "   Logistic Regression Results Without SMOTE  \n",
      "\n",
      "Week 05   Accuracy: 76.21  F-Score:  0.84 \t10-fold  Accuracy 76.02\tF-Score:  0.84\n",
      "Week 10   Accuracy: 79.99  F-Score:  0.86 \t10-fold  Accuracy 79.53\tF-Score:  0.86\n",
      "Week 15   Accuracy: 83.22  F-Score:  0.88 \t10-fold  Accuracy 83.80\tF-Score:  0.88\n",
      "Week 20   Accuracy: 88.60  F-Score:  0.92 \t10-fold  Accuracy 87.87\tF-Score:  0.91\n",
      "Week 25   Accuracy: 92.02  F-Score:  0.94 \t10-fold  Accuracy 92.02\tF-Score:  0.94\n",
      "\n",
      "   Confusion Matrix for Week 5 without SMOTE\n",
      "\n",
      "\t\t\tActual Withdrawn\tActual Pass\n",
      "Predicted Withdrawn \t816\t\t\t360 \n",
      "Predicted Pass \t\t981\t\t\t3481\n"
     ]
    }
   ],
   "source": [
    "# data for demographics and week 05 clicks correspond to 22 columns, demographics and week 10 clicks correspond to 27 etc.\n",
    "\n",
    "print(\"\\t\\t\\t  Clickstreams Aggregated by Weeks\")\n",
    "print()\n",
    "print(\"   Logistic Regression Results Without SMOTE  \")\n",
    "print()\n",
    "vle_week_wise_analysis(student_week_data,22,'05',False,False)\n",
    "vle_week_wise_analysis(student_week_data,27,'10',False,False)\n",
    "vle_week_wise_analysis(student_week_data,32,'15',False,False)\n",
    "vle_week_wise_analysis(student_week_data,37,'20',False,False)\n",
    "vle_week_wise_analysis(student_week_data,42,'25',False,False)\n",
    "print()\n",
    "print(\"   Confusion Matrix for Week 5 without SMOTE\")\n",
    "print()\n",
    "vle_week_wise_analysis(student_week_data,22,'05',True,False)"
   ]
  },
  {
   "cell_type": "markdown",
   "metadata": {},
   "source": [
    "# SMOTE  : LR on Demographics and clickstreams aggregated by weeks"
   ]
  },
  {
   "cell_type": "markdown",
   "metadata": {},
   "source": [
    "It can be observed that with SMOTE, more number of Withdraw instances are correctly classified."
   ]
  },
  {
   "cell_type": "code",
   "execution_count": 99,
   "metadata": {},
   "outputs": [
    {
     "name": "stdout",
     "output_type": "stream",
     "text": [
      "\t\t\t  Clickstreams Aggregated by Weeks\n",
      "\n",
      "   Logistic Regression Results With SMOTE  \n",
      "\n",
      "Week 05   Accuracy: 70.77  F-Score:  0.78 \t10-fold  Accuracy 77.72\tF-Score:  0.79\n",
      "Week 10   Accuracy: 74.49  F-Score:  0.81 \t10-fold  Accuracy 78.92\tF-Score:  0.80\n",
      "Week 15   Accuracy: 78.01  F-Score:  0.84 \t10-fold  Accuracy 82.23\tF-Score:  0.83\n",
      "Week 20   Accuracy: 84.89  F-Score:  0.89 \t10-fold  Accuracy 87.66\tF-Score:  0.88\n",
      "Week 25   Accuracy: 88.95  F-Score:  0.92 \t10-fold  Accuracy 91.19\tF-Score:  0.91\n",
      "\n",
      "   Confusion Matrix for Week 5 with SMOTE\n",
      "\n",
      "\t\t\tActual Withdrawn\tActual Pass\n",
      "Predicted Withdrawn \t1069\t\t\t920 \n",
      "Predicted Pass \t\t728\t\t\t2921\n"
     ]
    }
   ],
   "source": [
    "print(\"\\t\\t\\t  Clickstreams Aggregated by Weeks\")\n",
    "print()\n",
    "print(\"   Logistic Regression Results With SMOTE  \")\n",
    "print()\n",
    "vle_week_wise_analysis(student_week_data,22,'05',False,True)\n",
    "vle_week_wise_analysis(student_week_data,27,'10',False,True)\n",
    "vle_week_wise_analysis(student_week_data,32,'15',False,True)\n",
    "vle_week_wise_analysis(student_week_data,37,'20',False,True)\n",
    "vle_week_wise_analysis(student_week_data,42,'25',False,True)\n",
    "print()\n",
    "print(\"   Confusion Matrix for Week 5 with SMOTE\")\n",
    "print()\n",
    "vle_week_wise_analysis(student_week_data,22,'05',True,True)"
   ]
  },
  {
   "cell_type": "markdown",
   "metadata": {},
   "source": [
    "# VLE materials "
   ]
  },
  {
   "cell_type": "markdown",
   "metadata": {},
   "source": [
    "There are twenty different types of materials in the OULAD that will be analyzed"
   ]
  },
  {
   "cell_type": "code",
   "execution_count": 23,
   "metadata": {},
   "outputs": [
    {
     "data": {
      "text/html": [
       "<div>\n",
       "<style scoped>\n",
       "    .dataframe tbody tr th:only-of-type {\n",
       "        vertical-align: middle;\n",
       "    }\n",
       "\n",
       "    .dataframe tbody tr th {\n",
       "        vertical-align: top;\n",
       "    }\n",
       "\n",
       "    .dataframe thead th {\n",
       "        text-align: right;\n",
       "    }\n",
       "</style>\n",
       "<table border=\"1\" class=\"dataframe\">\n",
       "  <thead>\n",
       "    <tr style=\"text-align: right;\">\n",
       "      <th></th>\n",
       "      <th>id_site</th>\n",
       "      <th>code_module</th>\n",
       "      <th>code_presentation</th>\n",
       "      <th>activity_type</th>\n",
       "      <th>week_from</th>\n",
       "      <th>week_to</th>\n",
       "    </tr>\n",
       "  </thead>\n",
       "  <tbody>\n",
       "    <tr>\n",
       "      <th>0</th>\n",
       "      <td>546943</td>\n",
       "      <td>AAA</td>\n",
       "      <td>2013J</td>\n",
       "      <td>resource</td>\n",
       "      <td>NaN</td>\n",
       "      <td>NaN</td>\n",
       "    </tr>\n",
       "    <tr>\n",
       "      <th>1</th>\n",
       "      <td>546712</td>\n",
       "      <td>AAA</td>\n",
       "      <td>2013J</td>\n",
       "      <td>oucontent</td>\n",
       "      <td>NaN</td>\n",
       "      <td>NaN</td>\n",
       "    </tr>\n",
       "    <tr>\n",
       "      <th>2</th>\n",
       "      <td>546998</td>\n",
       "      <td>AAA</td>\n",
       "      <td>2013J</td>\n",
       "      <td>resource</td>\n",
       "      <td>NaN</td>\n",
       "      <td>NaN</td>\n",
       "    </tr>\n",
       "    <tr>\n",
       "      <th>3</th>\n",
       "      <td>546888</td>\n",
       "      <td>AAA</td>\n",
       "      <td>2013J</td>\n",
       "      <td>url</td>\n",
       "      <td>NaN</td>\n",
       "      <td>NaN</td>\n",
       "    </tr>\n",
       "    <tr>\n",
       "      <th>4</th>\n",
       "      <td>547035</td>\n",
       "      <td>AAA</td>\n",
       "      <td>2013J</td>\n",
       "      <td>resource</td>\n",
       "      <td>NaN</td>\n",
       "      <td>NaN</td>\n",
       "    </tr>\n",
       "  </tbody>\n",
       "</table>\n",
       "</div>"
      ],
      "text/plain": [
       "   id_site code_module code_presentation activity_type  week_from  week_to\n",
       "0   546943         AAA             2013J      resource        NaN      NaN\n",
       "1   546712         AAA             2013J     oucontent        NaN      NaN\n",
       "2   546998         AAA             2013J      resource        NaN      NaN\n",
       "3   546888         AAA             2013J           url        NaN      NaN\n",
       "4   547035         AAA             2013J      resource        NaN      NaN"
      ]
     },
     "execution_count": 23,
     "metadata": {},
     "output_type": "execute_result"
    }
   ],
   "source": [
    "vle.head()"
   ]
  },
  {
   "cell_type": "code",
   "execution_count": 24,
   "metadata": {},
   "outputs": [
    {
     "data": {
      "text/plain": [
       "Text(0.5, 1.0, 'Frequency across different VLE materials')"
      ]
     },
     "execution_count": 24,
     "metadata": {},
     "output_type": "execute_result"
    },
    {
     "data": {
      "image/png": "[encoded data removed]",
      "text/plain": [
       "<Figure size 432x288 with 1 Axes>"
      ]
     },
     "metadata": {
      "needs_background": "light"
     },
     "output_type": "display_data"
    }
   ],
   "source": [
    "vle.activity_type.value_counts().plot(kind='bar',color=\"green\")\n",
    "plt.tick_params(bottom=False)\n",
    "plt.title('Frequency across different VLE materials')"
   ]
  },
  {
   "cell_type": "markdown",
   "metadata": {},
   "source": [
    "Merge the VLE interactions data with the VLE materials."
   ]
  },
  {
   "cell_type": "code",
   "execution_count": 25,
   "metadata": {},
   "outputs": [
    {
     "data": {
      "text/html": [
       "<div>\n",
       "<style scoped>\n",
       "    .dataframe tbody tr th:only-of-type {\n",
       "        vertical-align: middle;\n",
       "    }\n",
       "\n",
       "    .dataframe tbody tr th {\n",
       "        vertical-align: top;\n",
       "    }\n",
       "\n",
       "    .dataframe thead th {\n",
       "        text-align: right;\n",
       "    }\n",
       "</style>\n",
       "<table border=\"1\" class=\"dataframe\">\n",
       "  <thead>\n",
       "    <tr style=\"text-align: right;\">\n",
       "      <th></th>\n",
       "      <th>code_module</th>\n",
       "      <th>code_presentation</th>\n",
       "      <th>id_student</th>\n",
       "      <th>id_site</th>\n",
       "      <th>date</th>\n",
       "      <th>sum_click</th>\n",
       "      <th>week</th>\n",
       "      <th>activity_type</th>\n",
       "    </tr>\n",
       "  </thead>\n",
       "  <tbody>\n",
       "    <tr>\n",
       "      <th>0</th>\n",
       "      <td>AAA</td>\n",
       "      <td>2013J</td>\n",
       "      <td>28400</td>\n",
       "      <td>546652</td>\n",
       "      <td>-10</td>\n",
       "      <td>4</td>\n",
       "      <td>-2</td>\n",
       "      <td>forumng</td>\n",
       "    </tr>\n",
       "    <tr>\n",
       "      <th>1</th>\n",
       "      <td>AAA</td>\n",
       "      <td>2013J</td>\n",
       "      <td>28400</td>\n",
       "      <td>546652</td>\n",
       "      <td>-10</td>\n",
       "      <td>1</td>\n",
       "      <td>-2</td>\n",
       "      <td>forumng</td>\n",
       "    </tr>\n",
       "    <tr>\n",
       "      <th>2</th>\n",
       "      <td>AAA</td>\n",
       "      <td>2013J</td>\n",
       "      <td>28400</td>\n",
       "      <td>546652</td>\n",
       "      <td>-10</td>\n",
       "      <td>1</td>\n",
       "      <td>-2</td>\n",
       "      <td>forumng</td>\n",
       "    </tr>\n",
       "  </tbody>\n",
       "</table>\n",
       "</div>"
      ],
      "text/plain": [
       "  code_module code_presentation  id_student  id_site  date  sum_click  week  \\\n",
       "0         AAA             2013J       28400   546652   -10          4    -2   \n",
       "1         AAA             2013J       28400   546652   -10          1    -2   \n",
       "2         AAA             2013J       28400   546652   -10          1    -2   \n",
       "\n",
       "  activity_type  \n",
       "0       forumng  \n",
       "1       forumng  \n",
       "2       forumng  "
      ]
     },
     "execution_count": 25,
     "metadata": {},
     "output_type": "execute_result"
    }
   ],
   "source": [
    "res_vle=  pd.merge(svle,vle,how='inner',left_on=(\"code_module\",\"code_presentation\",\"id_site\"),right_on=(\"code_module\",\"code_presentation\",\"id_site\"))\n",
    "res_vle.drop(['week_from','week_to'],axis=1,inplace=True)\n",
    "res_vle.head(3)"
   ]
  },
  {
   "cell_type": "markdown",
   "metadata": {},
   "source": [
    "The importance of the clickstreams aggregated by different materials on the dropout prediction is analyzed.\n",
    "\n",
    "It will be useful to perform a prior identification of the dropouts (after weeks 5, weeks 10 etc.) \n",
    "\n",
    "For example, the analysis for the first five weeks can be performed as follows."
   ]
  },
  {
   "cell_type": "code",
   "execution_count": 25,
   "metadata": {},
   "outputs": [
    {
     "data": {
      "text/html": [
       "<div>\n",
       "<style scoped>\n",
       "    .dataframe tbody tr th:only-of-type {\n",
       "        vertical-align: middle;\n",
       "    }\n",
       "\n",
       "    .dataframe tbody tr th {\n",
       "        vertical-align: top;\n",
       "    }\n",
       "\n",
       "    .dataframe thead th {\n",
       "        text-align: right;\n",
       "    }\n",
       "</style>\n",
       "<table border=\"1\" class=\"dataframe\">\n",
       "  <thead>\n",
       "    <tr style=\"text-align: right;\">\n",
       "      <th>activity_type</th>\n",
       "      <th>code_module</th>\n",
       "      <th>code_presentation</th>\n",
       "      <th>id_student</th>\n",
       "      <th>dataplus</th>\n",
       "      <th>dualpane</th>\n",
       "      <th>externalquiz</th>\n",
       "      <th>forumng</th>\n",
       "      <th>glossary</th>\n",
       "      <th>homepage</th>\n",
       "      <th>htmlactivity</th>\n",
       "      <th>...</th>\n",
       "      <th>oucontent</th>\n",
       "      <th>ouelluminate</th>\n",
       "      <th>ouwiki</th>\n",
       "      <th>page</th>\n",
       "      <th>questionnaire</th>\n",
       "      <th>quiz</th>\n",
       "      <th>resource</th>\n",
       "      <th>sharedsubpage</th>\n",
       "      <th>subpage</th>\n",
       "      <th>url</th>\n",
       "    </tr>\n",
       "  </thead>\n",
       "  <tbody>\n",
       "    <tr>\n",
       "      <th>0</th>\n",
       "      <td>AAA</td>\n",
       "      <td>2013J</td>\n",
       "      <td>11391</td>\n",
       "      <td>0.0</td>\n",
       "      <td>0.0</td>\n",
       "      <td>0.0</td>\n",
       "      <td>80.0</td>\n",
       "      <td>0.0</td>\n",
       "      <td>58.0</td>\n",
       "      <td>0.0</td>\n",
       "      <td>...</td>\n",
       "      <td>316.0</td>\n",
       "      <td>0.0</td>\n",
       "      <td>0.0</td>\n",
       "      <td>0.0</td>\n",
       "      <td>0.0</td>\n",
       "      <td>0.0</td>\n",
       "      <td>9.0</td>\n",
       "      <td>0.0</td>\n",
       "      <td>23.0</td>\n",
       "      <td>1.0</td>\n",
       "    </tr>\n",
       "    <tr>\n",
       "      <th>1</th>\n",
       "      <td>AAA</td>\n",
       "      <td>2013J</td>\n",
       "      <td>28400</td>\n",
       "      <td>0.0</td>\n",
       "      <td>0.0</td>\n",
       "      <td>0.0</td>\n",
       "      <td>209.0</td>\n",
       "      <td>0.0</td>\n",
       "      <td>137.0</td>\n",
       "      <td>0.0</td>\n",
       "      <td>...</td>\n",
       "      <td>183.0</td>\n",
       "      <td>0.0</td>\n",
       "      <td>0.0</td>\n",
       "      <td>0.0</td>\n",
       "      <td>0.0</td>\n",
       "      <td>0.0</td>\n",
       "      <td>5.0</td>\n",
       "      <td>0.0</td>\n",
       "      <td>60.0</td>\n",
       "      <td>31.0</td>\n",
       "    </tr>\n",
       "    <tr>\n",
       "      <th>2</th>\n",
       "      <td>AAA</td>\n",
       "      <td>2013J</td>\n",
       "      <td>30268</td>\n",
       "      <td>0.0</td>\n",
       "      <td>0.0</td>\n",
       "      <td>0.0</td>\n",
       "      <td>126.0</td>\n",
       "      <td>0.0</td>\n",
       "      <td>59.0</td>\n",
       "      <td>0.0</td>\n",
       "      <td>...</td>\n",
       "      <td>66.0</td>\n",
       "      <td>0.0</td>\n",
       "      <td>0.0</td>\n",
       "      <td>0.0</td>\n",
       "      <td>0.0</td>\n",
       "      <td>0.0</td>\n",
       "      <td>4.0</td>\n",
       "      <td>0.0</td>\n",
       "      <td>22.0</td>\n",
       "      <td>4.0</td>\n",
       "    </tr>\n",
       "    <tr>\n",
       "      <th>3</th>\n",
       "      <td>AAA</td>\n",
       "      <td>2013J</td>\n",
       "      <td>31604</td>\n",
       "      <td>0.0</td>\n",
       "      <td>0.0</td>\n",
       "      <td>0.0</td>\n",
       "      <td>178.0</td>\n",
       "      <td>1.0</td>\n",
       "      <td>139.0</td>\n",
       "      <td>0.0</td>\n",
       "      <td>...</td>\n",
       "      <td>263.0</td>\n",
       "      <td>0.0</td>\n",
       "      <td>0.0</td>\n",
       "      <td>0.0</td>\n",
       "      <td>0.0</td>\n",
       "      <td>0.0</td>\n",
       "      <td>10.0</td>\n",
       "      <td>0.0</td>\n",
       "      <td>66.0</td>\n",
       "      <td>28.0</td>\n",
       "    </tr>\n",
       "    <tr>\n",
       "      <th>4</th>\n",
       "      <td>AAA</td>\n",
       "      <td>2013J</td>\n",
       "      <td>32885</td>\n",
       "      <td>0.0</td>\n",
       "      <td>0.0</td>\n",
       "      <td>0.0</td>\n",
       "      <td>138.0</td>\n",
       "      <td>2.0</td>\n",
       "      <td>107.0</td>\n",
       "      <td>0.0</td>\n",
       "      <td>...</td>\n",
       "      <td>313.0</td>\n",
       "      <td>0.0</td>\n",
       "      <td>0.0</td>\n",
       "      <td>0.0</td>\n",
       "      <td>0.0</td>\n",
       "      <td>0.0</td>\n",
       "      <td>7.0</td>\n",
       "      <td>0.0</td>\n",
       "      <td>28.0</td>\n",
       "      <td>6.0</td>\n",
       "    </tr>\n",
       "  </tbody>\n",
       "</table>\n",
       "<p>5 rows × 21 columns</p>\n",
       "</div>"
      ],
      "text/plain": [
       "activity_type code_module code_presentation  id_student  dataplus  dualpane  \\\n",
       "0                     AAA             2013J       11391       0.0       0.0   \n",
       "1                     AAA             2013J       28400       0.0       0.0   \n",
       "2                     AAA             2013J       30268       0.0       0.0   \n",
       "3                     AAA             2013J       31604       0.0       0.0   \n",
       "4                     AAA             2013J       32885       0.0       0.0   \n",
       "\n",
       "activity_type  externalquiz  forumng  glossary  homepage  htmlactivity  ...  \\\n",
       "0                       0.0     80.0       0.0      58.0           0.0  ...   \n",
       "1                       0.0    209.0       0.0     137.0           0.0  ...   \n",
       "2                       0.0    126.0       0.0      59.0           0.0  ...   \n",
       "3                       0.0    178.0       1.0     139.0           0.0  ...   \n",
       "4                       0.0    138.0       2.0     107.0           0.0  ...   \n",
       "\n",
       "activity_type  oucontent  ouelluminate  ouwiki  page  questionnaire  quiz  \\\n",
       "0                  316.0           0.0     0.0   0.0            0.0   0.0   \n",
       "1                  183.0           0.0     0.0   0.0            0.0   0.0   \n",
       "2                   66.0           0.0     0.0   0.0            0.0   0.0   \n",
       "3                  263.0           0.0     0.0   0.0            0.0   0.0   \n",
       "4                  313.0           0.0     0.0   0.0            0.0   0.0   \n",
       "\n",
       "activity_type  resource  sharedsubpage  subpage   url  \n",
       "0                   9.0            0.0     23.0   1.0  \n",
       "1                   5.0            0.0     60.0  31.0  \n",
       "2                   4.0            0.0     22.0   4.0  \n",
       "3                  10.0            0.0     66.0  28.0  \n",
       "4                   7.0            0.0     28.0   6.0  \n",
       "\n",
       "[5 rows x 21 columns]"
      ]
     },
     "execution_count": 25,
     "metadata": {},
     "output_type": "execute_result"
    }
   ],
   "source": [
    "res_vle_w = res_vle[res_vle.week<=5]\n",
    "stud_week_material = res_vle_w.groupby(['code_module','code_presentation','id_student','week','activity_type']).sum_click.sum().reset_index()\n",
    "student_material = stud_week_material.groupby(['code_module','code_presentation','id_student','activity_type']).sum_click.sum().reset_index()\n",
    "resource_processed =student_material.reset_index().groupby(['code_module','code_presentation','id_student','activity_type'])['sum_click'].aggregate('first').unstack().reset_index()\n",
    "resource_processed.fillna(0,inplace=True)\n",
    "resource_processed.head(5)"
   ]
  },
  {
   "cell_type": "markdown",
   "metadata": {},
   "source": [
    "Similarly, the clickstreams aggregated by materials for the different weeks (5,10,15,20,25) will be analyzed.\n",
    "\n",
    "It is useful to merge the clickstreams with the demographics to see how the model performance improves over weeks."
   ]
  },
  {
   "cell_type": "markdown",
   "metadata": {},
   "source": [
    "# LR on Demographics and clickstreams aggregated by VLE materials"
   ]
  },
  {
   "cell_type": "code",
   "execution_count": 53,
   "metadata": {},
   "outputs": [],
   "source": [
    "def vle_week_resource_analysis(res_vle,week_selection,week_no, if_smote):\n",
    "    \n",
    "    res_vle_w = res_vle[res_vle.week<=week_selection]\n",
    "    stud_week_material = res_vle_w.groupby(['code_module','code_presentation','id_student','week','activity_type']).sum_click.sum().reset_index()\n",
    "    student_material = stud_week_material.groupby(['code_module','code_presentation','id_student','activity_type']).sum_click.sum().reset_index()\n",
    "    resource_processed =student_material.reset_index().groupby(['code_module','code_presentation','id_student','activity_type'])['sum_click'].aggregate('first').unstack().reset_index()\n",
    "    resource_processed.fillna(0,inplace=True)\n",
    "    \n",
    "    student_res_data=  pd.merge(students,resource_processed,how='inner',left_on=(\"code_module\",\"code_presentation\",\"id_student\"),right_on=(\"code_module\",\"code_presentation\",\"id_student\"))\n",
    "    stu_resr_data=student_res_data.copy()\n",
    "    stu_resr_data['code_presentation']=stu_resr_data.code_presentation.apply(lambda x: str(x)[-1])\n",
    "    \n",
    "    r_df = pd.get_dummies(stu_resr_data, columns=['code_module','code_presentation','gender', 'region', 'highest_education','imd_band','age_band','disability'],drop_first=True)\n",
    "    y = r_df.final_result\n",
    "    X = r_df.drop(['final_result','id_student'],axis=1)\n",
    "    x_train_d , x_test_d , y_train_d , y_test_d = train_test_split(X,y, test_size=0.25,random_state=0)\n",
    "    lr= LogisticRegression()\n",
    "    \n",
    "    if(if_smote):\n",
    "        sm = SMOTE(random_state=1)\n",
    "        x_train_d, y_train_d = sm.fit_sample(x_train_d, y_train_d.ravel())\n",
    "        \n",
    "    lr.fit(x_train_d,y_train_d)\n",
    "    y_pred= lr.predict(x_test_d)\n",
    "\n",
    "    \n",
    "    print(\"Week\",week_no,\"  Accuracy: %.3f  F-Score:  %.3f\" % (accuracy_score(y_test_d,y_pred)*100, f1_score(y_test_d,y_pred)),\"\\t10-fold  Accuracy %.3f\\tF-Score:  %.3f\" %(cross_val_score(lr,x_train_d,y_train_d,cv=10).mean()*100,cross_val_score(lr, x_train_d, y_train_d, cv=10, scoring='f1').mean()))"
   ]
  },
  {
   "cell_type": "code",
   "execution_count": 101,
   "metadata": {},
   "outputs": [
    {
     "name": "stdout",
     "output_type": "stream",
     "text": [
      "\t\t\tClickstreams Aggregated by VLE Materials\n",
      "\n",
      "   Logistic Regression Results Without SMOTE  \n",
      "\n",
      "Week 05   Accuracy: 75.183  F-Score:  0.837 \t10-fold  Accuracy 74.320\tF-Score:  0.829\n",
      "Week 10   Accuracy: 76.711  F-Score:  0.842 \t10-fold  Accuracy 78.056\tF-Score:  0.852\n",
      "Week 15   Accuracy: 79.723  F-Score:  0.860 \t10-fold  Accuracy 79.309\tF-Score:  0.856\n",
      "Week 20   Accuracy: 80.873  F-Score:  0.863 \t10-fold  Accuracy 80.545\tF-Score:  0.863\n",
      "Week 25   Accuracy: 83.144  F-Score:  0.878 \t10-fold  Accuracy 82.387\tF-Score:  0.875\n"
     ]
    }
   ],
   "source": [
    "print(\"\\t\\t\\tClickstreams Aggregated by VLE Materials\")\n",
    "print()\n",
    "print(\"   Logistic Regression Results Without SMOTE  \")\n",
    "print()\n",
    "vle_week_resource_analysis(res_vle,5,'05',False)\n",
    "vle_week_resource_analysis(res_vle,10,'10',False)\n",
    "vle_week_resource_analysis(res_vle,15,'15',False)\n",
    "vle_week_resource_analysis(res_vle,20,'20',False)\n",
    "vle_week_resource_analysis(res_vle,25,'25',False)"
   ]
  },
  {
   "cell_type": "markdown",
   "metadata": {},
   "source": [
    "# SMOTE  : LR on Demographics and  clickstreams aggregated by materials"
   ]
  },
  {
   "cell_type": "code",
   "execution_count": 102,
   "metadata": {},
   "outputs": [
    {
     "name": "stdout",
     "output_type": "stream",
     "text": [
      "\t\t\tClickstreams Aggregated by VLE Materials\n",
      "\n",
      "   Logistic Regression Results With SMOTE  \n",
      "\n",
      "Week 05   Accuracy: 68.430  F-Score:  0.756 \t10-fold  Accuracy 71.800\tF-Score:  0.720\n",
      "Week 10   Accuracy: 69.102  F-Score:  0.749 \t10-fold  Accuracy 72.908\tF-Score:  0.725\n",
      "Week 15   Accuracy: 71.768  F-Score:  0.774 \t10-fold  Accuracy 73.555\tF-Score:  0.726\n",
      "Week 20   Accuracy: 75.124  F-Score:  0.800 \t10-fold  Accuracy 76.011\tF-Score:  0.752\n",
      "Week 25   Accuracy: 76.881  F-Score:  0.814 \t10-fold  Accuracy 78.451\tF-Score:  0.778\n"
     ]
    }
   ],
   "source": [
    "print(\"\\t\\t\\tClickstreams Aggregated by VLE Materials\")\n",
    "print()\n",
    "print(\"   Logistic Regression Results With SMOTE  \")\n",
    "print()\n",
    "vle_week_resource_analysis(res_vle,5,'05',True)\n",
    "vle_week_resource_analysis(res_vle,10,'10',True)\n",
    "vle_week_resource_analysis(res_vle,15,'15',True)\n",
    "vle_week_resource_analysis(res_vle,20,'20',True)\n",
    "vle_week_resource_analysis(res_vle,25,'25',True)"
   ]
  },
  {
   "cell_type": "markdown",
   "metadata": {},
   "source": [
    "# Feed Forward Neural Network"
   ]
  },
  {
   "cell_type": "markdown",
   "metadata": {},
   "source": [
    "# Demographic Data"
   ]
  },
  {
   "cell_type": "code",
   "execution_count": 63,
   "metadata": {},
   "outputs": [],
   "source": [
    "df = pd.get_dummies(demo_data, columns=['code_module','code_presentation','gender', 'region', 'highest_education','imd_band','age_band','disability'],drop_first=True)\n",
    "y = df.final_result.values\n",
    "X = df.drop(['final_result','id_student'],axis=1)\n",
    "x_train_d , x_test_d , y_train_d , y_test_d = train_test_split(X,y, test_size=0.25,random_state=0)\n",
    "\n",
    "#transform the data\n",
    "sc=StandardScaler()\n",
    "x_train_d=sc.fit_transform(x_train_d)\n",
    "x_test_d=sc.transform(x_test_d)"
   ]
  },
  {
   "cell_type": "code",
   "execution_count": 62,
   "metadata": {},
   "outputs": [],
   "source": [
    "# define the Feed Forward Neural Network Architecture\n",
    "def model_architecture(nodes):\n",
    "    model= Sequential()\n",
    "    model.add(Dense(output_dim=10,init='uniform',activation='relu',input_dim=nodes))\n",
    "    model.add(Dense(output_dim=6,init='uniform',activation='relu'))\n",
    "    model.add(Dense(output_dim=1, activation='sigmoid', init='uniform'))\n",
    "    model.compile(optimizer='adam',loss='binary_crossentropy',metrics=['accuracy'])\n",
    "    return model"
   ]
  },
  {
   "cell_type": "code",
   "execution_count": 65,
   "metadata": {},
   "outputs": [
    {
     "name": "stdout",
     "output_type": "stream",
     "text": [
      "Epoch 1/10\n",
      "19155/19155 [==============================] - 3s 149us/step - loss: 0.6369 - accuracy: 0.6428\n",
      "Epoch 2/10\n",
      "19155/19155 [==============================] - 1s 63us/step - loss: 0.6159 - accuracy: 0.6626\n",
      "Epoch 3/10\n",
      "19155/19155 [==============================] - 1s 57us/step - loss: 0.6138 - accuracy: 0.6642\n",
      "Epoch 4/10\n",
      "19155/19155 [==============================] - 1s 58us/step - loss: 0.6126 - accuracy: 0.6658\n",
      "Epoch 5/10\n",
      "19155/19155 [==============================] - 1s 60us/step - loss: 0.6112 - accuracy: 0.6676\n",
      "Epoch 6/10\n",
      "19155/19155 [==============================] - 1s 59us/step - loss: 0.6106 - accuracy: 0.6699\n",
      "Epoch 7/10\n",
      "19155/19155 [==============================] - 1s 59us/step - loss: 0.6094 - accuracy: 0.6681\n",
      "Epoch 8/10\n",
      "19155/19155 [==============================] - 1s 60us/step - loss: 0.6085 - accuracy: 0.6709\n",
      "Epoch 9/10\n",
      "19155/19155 [==============================] - 1s 59us/step - loss: 0.6076 - accuracy: 0.6711\n",
      "Epoch 10/10\n",
      "19155/19155 [==============================] - 1s 59us/step - loss: 0.6066 - accuracy: 0.6727\n"
     ]
    },
    {
     "data": {
      "text/plain": [
       "<keras.callbacks.callbacks.History at 0x15684334a90>"
      ]
     },
     "execution_count": 65,
     "metadata": {},
     "output_type": "execute_result"
    }
   ],
   "source": [
    "model=model_architecture(x_train_d.shape[1])\n",
    "model.fit(x_train_d,y_train_d,batch_size=32,epochs=10)"
   ]
  },
  {
   "cell_type": "code",
   "execution_count": 66,
   "metadata": {},
   "outputs": [
    {
     "name": "stdout",
     "output_type": "stream",
     "text": [
      "\n",
      "Feed Forward Results on Demographic Details Without SMOTE\n",
      "\n",
      "Accuracy: 66.583  F-Score:  0.755\n"
     ]
    }
   ],
   "source": [
    "y_pred=model.predict(x_test_d)\n",
    "y_pred=[1 if y>=0.5 else 0 for y in y_pred ]\n",
    "print()\n",
    "print(\"Feed Forward Results on Demographic Details Without SMOTE\")\n",
    "print()\n",
    "print(\"Accuracy: %.3f  F-Score:  %.3f\" % (accuracy_score(y_test_d,y_pred)*100, f1_score(y_test_d,y_pred)))"
   ]
  },
  {
   "cell_type": "markdown",
   "metadata": {},
   "source": [
    "# SMOTE Analysis on the Demographic data"
   ]
  },
  {
   "cell_type": "code",
   "execution_count": 67,
   "metadata": {},
   "outputs": [
    {
     "name": "stdout",
     "output_type": "stream",
     "text": [
      "Epoch 1/10\n",
      "23100/23100 [==============================] - 1s 52us/step - loss: 0.6246 - accuracy: 0.6516\n",
      "Epoch 2/10\n",
      "23100/23100 [==============================] - 1s 56us/step - loss: 0.6217 - accuracy: 0.6545\n",
      "Epoch 3/10\n",
      "23100/23100 [==============================] - 1s 59us/step - loss: 0.6204 - accuracy: 0.6519\n",
      "Epoch 4/10\n",
      "23100/23100 [==============================] - 1s 58us/step - loss: 0.6194 - accuracy: 0.6536\n",
      "Epoch 5/10\n",
      "23100/23100 [==============================] - 1s 58us/step - loss: 0.6184 - accuracy: 0.6559\n",
      "Epoch 6/10\n",
      "23100/23100 [==============================] - 1s 58us/step - loss: 0.6174 - accuracy: 0.6587\n",
      "Epoch 7/10\n",
      "23100/23100 [==============================] - 1s 57us/step - loss: 0.6163 - accuracy: 0.6595\n",
      "Epoch 8/10\n",
      "23100/23100 [==============================] - 1s 60us/step - loss: 0.6162 - accuracy: 0.6620\n",
      "Epoch 9/10\n",
      "23100/23100 [==============================] - 1s 57us/step - loss: 0.6151 - accuracy: 0.6612\n",
      "Epoch 10/10\n",
      "23100/23100 [==============================] - 1s 61us/step - loss: 0.6147 - accuracy: 0.6620\n"
     ]
    },
    {
     "data": {
      "text/plain": [
       "<keras.callbacks.callbacks.History at 0x15682ad3400>"
      ]
     },
     "execution_count": 67,
     "metadata": {},
     "output_type": "execute_result"
    }
   ],
   "source": [
    "sm = SMOTE(random_state=12)\n",
    "X_train_res, y_train_res = sm.fit_sample(x_train_d, y_train_d.ravel())\n",
    "model.fit(X_train_res,y_train_res,batch_size=32,epochs=10)"
   ]
  },
  {
   "cell_type": "code",
   "execution_count": 68,
   "metadata": {},
   "outputs": [
    {
     "name": "stdout",
     "output_type": "stream",
     "text": [
      "\n",
      "Feed Forward Results on Demographic Details with SMOTE\n",
      "\n",
      "Accuracy: 65.863  F-Score:  0.711\n"
     ]
    }
   ],
   "source": [
    "y_pred=model.predict(x_test_d)\n",
    "y_pred=[1 if y>=0.5 else 0 for y in y_pred]\n",
    "print()\n",
    "print(\"Feed Forward Results on Demographic Details with SMOTE\")\n",
    "print()\n",
    "print(\"Accuracy: %.3f  F-Score:  %.3f\" % (accuracy_score(y_test_d,y_pred)*100, f1_score(y_test_d,y_pred)))"
   ]
  },
  {
   "cell_type": "markdown",
   "metadata": {},
   "source": [
    "# Feed Forward Cross-Validation"
   ]
  },
  {
   "cell_type": "code",
   "execution_count": 64,
   "metadata": {},
   "outputs": [],
   "source": [
    "#10 fold cross validation for the Feed Forward Neural Network\n",
    "def cross_val_feed_forward(x_tr,y_tr,input_size):\n",
    "    kfold = StratifiedKFold(n_splits=10, shuffle=True, random_state=1)\n",
    "    cvscores = []\n",
    "    cv_fscores= []\n",
    "\n",
    "    for train, test in kfold.split(x_tr, y_tr):\n",
    "        model = model_architecture(input_size)\n",
    "        model.fit(x_tr[train], y_tr[train], epochs=10, batch_size=32, verbose=0)\n",
    "\n",
    "        y_test_rev= model.predict(x_tr[test])\n",
    "        y_test_rev= [1 if y>=0.5 else 0 for y in y_test_rev]\n",
    "        \n",
    "        fscr =f1_score(y_test_rev,y_tr[test])\n",
    "        cvscores.append(accuracy_score(y_test_rev,y_tr[test]))\n",
    "        cv_fscores.append(fscr)\n",
    "    \n",
    "    return np.mean(cvscores)*100, np.mean(cv_fscores)"
   ]
  },
  {
   "cell_type": "code",
   "execution_count": 122,
   "metadata": {},
   "outputs": [
    {
     "name": "stdout",
     "output_type": "stream",
     "text": [
      "Feed Forward Cross Validation Results without SMOTE\n",
      "\n",
      "10 fold Accuracy: 66.291  F-Score:  0.747\n"
     ]
    }
   ],
   "source": [
    "fold_score,fold_fscore =cross_val_feed_forward(x_train_d,y_train_d,38)\n",
    "print(\"Feed Forward Cross Validation Results without SMOTE\")\n",
    "print()\n",
    "print(\"10 fold Accuracy: %.3f  F-Score:  %.3f\" % (fold_score, fold_fscore))"
   ]
  },
  {
   "cell_type": "code",
   "execution_count": 124,
   "metadata": {},
   "outputs": [
    {
     "name": "stdout",
     "output_type": "stream",
     "text": [
      "Feed Forward Cross Validation Results with SMOTE\n",
      "\n",
      "10 fold Accuracy: 64.485  F-Score:  0.647\n"
     ]
    }
   ],
   "source": [
    "sm = SMOTE(random_state=12)\n",
    "X_train_res, y_train_res = sm.fit_sample(x_train_d, y_train_d.ravel())\n",
    "fold_score_smote ,fold_fscore_smote  =cross_val_feed_forward(X_train_res,y_train_res,38)\n",
    "print(\"Feed Forward Cross Validation Results with SMOTE\")\n",
    "print()\n",
    "print(\"10 fold Accuracy: %.3f  F-Score:  %.3f\" % (fold_score_smote, fold_fscore_smote))"
   ]
  },
  {
   "cell_type": "markdown",
   "metadata": {},
   "source": [
    "# Feed Forward NN: Demographics and clickstreams aggregated by weeks"
   ]
  },
  {
   "cell_type": "code",
   "execution_count": 126,
   "metadata": {},
   "outputs": [],
   "source": [
    "def vle_week_wise_ann_analysis(student_week_dt,week_selection,week_no, check_confusion_matrix,if_smote,nodes):\n",
    "    \n",
    "    student_week_dt = student_week_dt.iloc[:,0:week_selection]\n",
    "    stu_vle_dt=student_week_dt.copy()\n",
    "    stu_vle_dt['code_presentation']=stu_vle_dt.code_presentation.apply(lambda x: str(x)[-1])\n",
    "    w_df = pd.get_dummies(stu_vle_dt, columns=['code_module','code_presentation','gender', 'region', 'highest_education','imd_band','age_band','disability'],drop_first=True)\n",
    "    y = w_df.final_result.values\n",
    "    X = w_df.drop(['final_result','id_student'],axis=1).values\n",
    "    x_train_d , x_test_d , y_train_d , y_test_d = train_test_split(X,y, test_size=0.25,random_state=1)\n",
    "    \n",
    "    sc=StandardScaler()\n",
    "    x_train_d=sc.fit_transform(x_train_d)\n",
    "    x_test_d=sc.transform(x_test_d) \n",
    "\n",
    "    model= model_architecture(x_train_d.shape[1])\n",
    "    \n",
    "    if(if_smote):\n",
    "        sm = SMOTE(random_state=1)\n",
    "        x_train_d, y_train_d = sm.fit_sample(x_train_d, y_train_d.ravel())\n",
    "    fold_acc, fold_fscore = cross_val_feed_forward(x_train_d,y_train_d,nodes)\n",
    "\n",
    "    model.fit(x_train_d,y_train_d,batch_size=32,epochs=10,verbose=0)\n",
    "    y_pred= model.predict(x_test_d)\n",
    "    y_pred=[1 if y >=0.5 else 0 for y in y_pred]\n",
    "   \n",
    "    if(check_confusion_matrix):\n",
    "        matrix=confusion_matrix(y_pred,y_test_d)\n",
    "        print(\"\\t\\t\\tActual Withdrawn\\tActual Pass\")\n",
    "        print(\"Predicted Withdrawn \\t{}\\t\\t\\t{} \\nPredicted Pass \\t\\t{}\\t\\t\\t{}\".format(matrix[0][0],matrix[0][1],matrix[1][0],matrix[1][1]))\n",
    "    else:\n",
    "        print(\"Week\",week_no,\"  Accuracy: %.2f  F-Score:  %.3f\" % (accuracy_score(y_test_d,y_pred)*100, f1_score(y_test_d,y_pred)) ,\"\\t10-fold  Accuracy %.3f\\tF-Score:  %.3f\" %(fold_acc,fold_fscore))"
   ]
  },
  {
   "cell_type": "code",
   "execution_count": 127,
   "metadata": {},
   "outputs": [
    {
     "name": "stdout",
     "output_type": "stream",
     "text": [
      "\t\t\tClickstreams Aggregated by Weeks\n",
      "\n",
      "   Feed Forward Neural Network Results Without SMOTE  \n",
      "\n",
      "Week 05   Accuracy: 77.92  F-Score:  0.845 \t10-fold  Accuracy 78.358\tF-Score:  0.851\n",
      "Week 10   Accuracy: 83.52  F-Score:  0.887 \t10-fold  Accuracy 82.379\tF-Score:  0.878\n",
      "Week 15   Accuracy: 86.04  F-Score:  0.899 \t10-fold  Accuracy 86.105\tF-Score:  0.901\n",
      "Week 20   Accuracy: 91.20  F-Score:  0.937 \t10-fold  Accuracy 90.486\tF-Score:  0.931\n",
      "Week 25   Accuracy: 93.72  F-Score:  0.954 \t10-fold  Accuracy 93.318\tF-Score:  0.951\n",
      "\n",
      "   Confusion Matrix for Week 5 without SMOTE \n",
      "\n",
      "\t\t\tActual Withdrawn\tActual Pass\n",
      "Predicted Withdrawn \t979\t\t\t415 \n",
      "Predicted Pass \t\t818\t\t\t3426\n"
     ]
    }
   ],
   "source": [
    "print(\"\\t\\t\\tClickstreams Aggregated by Weeks\")\n",
    "print()\n",
    "print(\"   Feed Forward Neural Network Results Without SMOTE  \")\n",
    "print()\n",
    "vle_week_wise_ann_analysis(student_week_data,22,'05',False,False,48)\n",
    "vle_week_wise_ann_analysis(student_week_data,27,'10',False,False,53)\n",
    "vle_week_wise_ann_analysis(student_week_data,32,'15',False,False,58)\n",
    "vle_week_wise_ann_analysis(student_week_data,37,'20',False,False,63)\n",
    "vle_week_wise_ann_analysis(student_week_data,42,'25',False,False,68)\n",
    "print()\n",
    "print(\"   Confusion Matrix for Week 5 without SMOTE \")\n",
    "print()\n",
    "vle_week_wise_ann_analysis(student_week_data,22,'05',True,False,48)"
   ]
  },
  {
   "cell_type": "markdown",
   "metadata": {},
   "source": [
    "The number of correctly classified withdrawn cases increases with SMOTE oversampling."
   ]
  },
  {
   "cell_type": "code",
   "execution_count": 128,
   "metadata": {},
   "outputs": [
    {
     "name": "stdout",
     "output_type": "stream",
     "text": [
      "\t\t\tClickstreams Aggregated by Weeks\n",
      "\n",
      "   Feed Forward Neural Network Results With SMOTE  \n",
      "\n",
      "Week 05   Accuracy: 74.76  F-Score:  0.808 \t10-fold  Accuracy 75.786\tF-Score:  0.767\n",
      "Week 10   Accuracy: 80.45  F-Score:  0.855 \t10-fold  Accuracy 79.984\tF-Score:  0.813\n",
      "Week 15   Accuracy: 84.62  F-Score:  0.885 \t10-fold  Accuracy 85.426\tF-Score:  0.860\n",
      "Week 20   Accuracy: 90.10  F-Score:  0.927 \t10-fold  Accuracy 89.901\tF-Score:  0.902\n",
      "Week 25   Accuracy: 92.94  F-Score:  0.948 \t10-fold  Accuracy 92.921\tF-Score:  0.930\n",
      "\n",
      "   Confusion Matrix for Week 5 with SMOTE\n",
      "\n",
      "\t\t\tActual Withdrawn\tActual Pass\n",
      "Predicted Withdrawn \t1194\t\t\t780 \n",
      "Predicted Pass \t\t603\t\t\t3061\n"
     ]
    }
   ],
   "source": [
    "print(\"\\t\\t\\tClickstreams Aggregated by Weeks\")\n",
    "print()\n",
    "print(\"   Feed Forward Neural Network Results With SMOTE  \")\n",
    "print()\n",
    "vle_week_wise_ann_analysis(student_week_data,22,'05',False,True,48)\n",
    "vle_week_wise_ann_analysis(student_week_data,27,'10',False,True,53)\n",
    "vle_week_wise_ann_analysis(student_week_data,32,'15',False,True,58)\n",
    "vle_week_wise_ann_analysis(student_week_data,37,'20',False,True,63)\n",
    "vle_week_wise_ann_analysis(student_week_data,42,'25',False,True,68)\n",
    "print()\n",
    "print(\"   Confusion Matrix for Week 5 with SMOTE\")\n",
    "print()\n",
    "vle_week_wise_ann_analysis(student_week_data,22,'05',True,True,48)"
   ]
  },
  {
   "cell_type": "markdown",
   "metadata": {},
   "source": [
    "# Feed Forward NN: Demographics & clickstreams aggregated by materials"
   ]
  },
  {
   "cell_type": "code",
   "execution_count": 56,
   "metadata": {},
   "outputs": [],
   "source": [
    "def vle_week_resource_ann_analysis(res_vle,week_selection,week_no, if_smote):\n",
    "    \n",
    "    res_vle_w = res_vle[res_vle.week<=week_selection]\n",
    "    stud_week_material = res_vle_w.groupby(['code_module','code_presentation','id_student','week','activity_type']).sum_click.sum().reset_index()\n",
    "    student_material = stud_week_material.groupby(['code_module','code_presentation','id_student','activity_type']).sum_click.sum().reset_index()\n",
    "    resource_processed =student_material.reset_index().groupby(['code_module','code_presentation','id_student','activity_type'])['sum_click'].aggregate('first').unstack().reset_index()\n",
    "    resource_processed.fillna(0,inplace=True)\n",
    "    student_res_data=  pd.merge(students,resource_processed,how='inner',left_on=(\"code_module\",\"code_presentation\",\"id_student\"),right_on=(\"code_module\",\"code_presentation\",\"id_student\"))\n",
    "    stu_resr_data=student_res_data.copy()\n",
    "    stu_resr_data['code_presentation']=stu_resr_data.code_presentation.apply(lambda x: str(x)[-1])\n",
    "    \n",
    "    r_df = pd.get_dummies(stu_resr_data, columns=['code_module','code_presentation','gender', 'region', 'highest_education','imd_band','age_band','disability'],drop_first=True)\n",
    "    y = r_df.final_result.values\n",
    "    X = r_df.drop(['final_result','id_student'],axis=1).values\n",
    "    x_train_d , x_test_d , y_train_d , y_test_d = train_test_split(X,y, test_size=0.25,random_state=0)\n",
    "    \n",
    "    sc=StandardScaler()\n",
    "    x_train_d=sc.fit_transform(x_train_d)\n",
    "    x_test_d=sc.transform(x_test_d)     \n",
    "    \n",
    "    model= model_architecture(x_train_d.shape[1])\n",
    "   \n",
    "    if(if_smote):\n",
    "        sm = SMOTE(random_state=1)\n",
    "        x_train_d, y_train_d = sm.fit_sample(x_train_d, y_train_d.ravel())\n",
    "    fold_acc, fold_fscore = cross_val_feed_forward(x_train_d,y_train_d,x_train_d.shape[1])\n",
    "\n",
    "    model.fit(x_train_d,y_train_d,batch_size=32,epochs=10,verbose=0)\n",
    "    y_pred= model.predict(x_test_d)\n",
    "    y_pred=[1 if y >=0.5 else 0 for y in y_pred]\n",
    "    \n",
    "    print(\"Week\",week_no,\"  Accuracy: %.2f  F-Score:  %.3f\" % (accuracy_score(y_test_d,y_pred)*100, f1_score(y_test_d,y_pred)) ,\"\\t10-fold  Accuracy %.3f\\tF-Score:  %.3f\" %(fold_acc,fold_fscore))"
   ]
  },
  {
   "cell_type": "code",
   "execution_count": 484,
   "metadata": {},
   "outputs": [
    {
     "name": "stdout",
     "output_type": "stream",
     "text": [
      "\t\t\tClickstreams Aggregated by VLE Materials\n",
      "\n",
      "   Feed Forward Neural Network Results Without SMOTE  \n",
      "\n",
      "Week 05   Accuracy: 77.11  F-Score:  0.845 \t10-fold  Accuracy 77.000\tF-Score:  0.842\n",
      "Week 10   Accuracy: 78.24  F-Score:  0.848 \t10-fold  Accuracy 79.834\tF-Score:  0.862\n",
      "Week 15   Accuracy: 81.75  F-Score:  0.873 \t10-fold  Accuracy 81.321\tF-Score:  0.870\n",
      "Week 20   Accuracy: 84.37  F-Score:  0.890 \t10-fold  Accuracy 83.314\tF-Score:  0.882\n",
      "Week 25   Accuracy: 86.14  F-Score:  0.901 \t10-fold  Accuracy 85.534\tF-Score:  0.898\n"
     ]
    }
   ],
   "source": [
    "print(\"\\t\\t\\tClickstreams Aggregated by VLE Materials\")\n",
    "print()\n",
    "print(\"   Feed Forward Neural Network Results Without SMOTE  \")\n",
    "print()\n",
    "vle_week_resource_ann_analysis(res_vle,5,'05',False)\n",
    "vle_week_resource_ann_analysis(res_vle,10,'10',False)\n",
    "vle_week_resource_ann_analysis(res_vle,15,'15',False)\n",
    "vle_week_resource_ann_analysis(res_vle,20,'20',False)\n",
    "vle_week_resource_ann_analysis(res_vle,25,'25',False)"
   ]
  },
  {
   "cell_type": "code",
   "execution_count": 65,
   "metadata": {},
   "outputs": [
    {
     "name": "stdout",
     "output_type": "stream",
     "text": [
      "\t\t\tClickstreams Aggregated by VLE Materials\n",
      "\n",
      "   Feed Forward Neural Network Results With SMOTE  \n",
      "\n",
      "Week 05   Accuracy: 73.16  F-Score:  0.796 \t10-fold  Accuracy 74.862\tF-Score:  0.755\n",
      "Week 10   Accuracy: 77.05  F-Score:  0.828 \t10-fold  Accuracy 77.075\tF-Score:  0.779\n",
      "Week 15   Accuracy: 79.23  F-Score:  0.846 \t10-fold  Accuracy 79.230\tF-Score:  0.799\n",
      "Week 20   Accuracy: 82.93  F-Score:  0.874 \t10-fold  Accuracy 81.750\tF-Score:  0.824\n",
      "Week 25   Accuracy: 84.79  F-Score:  0.887 \t10-fold  Accuracy 84.583\tF-Score:  0.850\n"
     ]
    }
   ],
   "source": [
    "print(\"\\t\\t\\tClickstreams Aggregated by VLE Materials\")\n",
    "print()\n",
    "print(\"   Feed Forward Neural Network Results With SMOTE  \")\n",
    "print()\n",
    "vle_week_resource_ann_analysis(res_vle,5,'05',True)\n",
    "vle_week_resource_ann_analysis(res_vle,10,'10',True)\n",
    "vle_week_resource_ann_analysis(res_vle,15,'15',True)\n",
    "vle_week_resource_ann_analysis(res_vle,20,'20',True)\n",
    "vle_week_resource_ann_analysis(res_vle,25,'25',True)"
   ]
  },
  {
   "cell_type": "markdown",
   "metadata": {},
   "source": [
    "# LSTM on VLE data"
   ]
  },
  {
   "cell_type": "markdown",
   "metadata": {},
   "source": [
    "LSTM expects the training data in [samples, time steps, features] format.\n",
    "\n",
    "As the main objective of this research is prior identification of dropouts the time steps are kept low ( 5 ,10 ,15 weeks).\n",
    "\n",
    "The clickstreams arranged in a multidimensional format are the input to the LSTM model. The clickstreams across 20 different VLE materials will be used as the features and for every student data is maintained across all the 38 weeks.\n",
    "\n",
    "Thus the 3D data expected by LSTM illustrates that for all students we have per student 38 weeks and 20 resources.  \n",
    "\n",
    "To keep a track of each courses and presentation a student takes, a unique id is created with a combination of student id, course and presentation.\n"
   ]
  },
  {
   "cell_type": "code",
   "execution_count": 26,
   "metadata": {},
   "outputs": [
    {
     "data": {
      "text/plain": [
       "(9343518, 19)"
      ]
     },
     "execution_count": 26,
     "metadata": {},
     "output_type": "execute_result"
    }
   ],
   "source": [
    "# combine the demographic and VLE data\n",
    "data_combined =  pd.merge(svle,vle,how='inner',left_on=(\"code_module\",\"code_presentation\",\"id_site\"),right_on=(\"code_module\",\"code_presentation\",\"id_site\"))\n",
    "data_combined =  pd.merge(students,data_combined,how='inner',left_on=(\"code_module\",\"code_presentation\",\"id_student\"),right_on=(\"code_module\",\"code_presentation\",\"id_student\"))\n",
    "data_combined.shape  "
   ]
  },
  {
   "cell_type": "markdown",
   "metadata": {},
   "source": [
    "It is important to analyze the eager students that access the course content in weeks(0-4) before the course commences."
   ]
  },
  {
   "cell_type": "code",
   "execution_count": 27,
   "metadata": {},
   "outputs": [],
   "source": [
    "early_week_data =data_combined[data_combined.week<0]"
   ]
  },
  {
   "cell_type": "markdown",
   "metadata": {},
   "source": [
    "LSTM will analyze the clickstreams recorded in the rest 38 weeks of the on-going course."
   ]
  },
  {
   "cell_type": "code",
   "execution_count": 28,
   "metadata": {},
   "outputs": [],
   "source": [
    "data_combined=data_combined[data_combined.week>=0]\n",
    "data_combined.drop(['week_from','week_to'],axis=1,inplace=True)"
   ]
  },
  {
   "cell_type": "code",
   "execution_count": 29,
   "metadata": {},
   "outputs": [],
   "source": [
    "# aggregate the clickstreams over the 38 weeks for each of the twenty materials\n",
    "data_combined=data_combined[['code_module','code_presentation','id_student','sum_click','final_result','week','activity_type']]\n",
    "data_combined.sort_values(by=['id_student','code_module','code_presentation','week'],inplace=True)\n",
    "aggr_data =data_combined.groupby(['id_student','code_module','code_presentation','week','final_result','activity_type'])['sum_click'].sum().reset_index()\n",
    "aggr_data = aggr_data.reset_index().groupby(['id_student','code_module','code_presentation','week','final_result','activity_type'])['sum_click'].aggregate('first').unstack().reset_index()\n",
    "aggr_data.fillna(0,inplace=True)"
   ]
  },
  {
   "cell_type": "markdown",
   "metadata": {},
   "source": [
    "To arrange the 38 week clickstreams for each student and their enrolled course, it is necessary to create unique ids."
   ]
  },
  {
   "cell_type": "code",
   "execution_count": 30,
   "metadata": {},
   "outputs": [
    {
     "data": {
      "text/html": [
       "<div>\n",
       "<style scoped>\n",
       "    .dataframe tbody tr th:only-of-type {\n",
       "        vertical-align: middle;\n",
       "    }\n",
       "\n",
       "    .dataframe tbody tr th {\n",
       "        vertical-align: top;\n",
       "    }\n",
       "\n",
       "    .dataframe thead th {\n",
       "        text-align: right;\n",
       "    }\n",
       "</style>\n",
       "<table border=\"1\" class=\"dataframe\">\n",
       "  <thead>\n",
       "    <tr style=\"text-align: right;\">\n",
       "      <th>activity_type</th>\n",
       "      <th>id_student</th>\n",
       "      <th>code_module</th>\n",
       "      <th>code_presentation</th>\n",
       "      <th>week</th>\n",
       "      <th>final_result</th>\n",
       "      <th>dataplus</th>\n",
       "      <th>dualpane</th>\n",
       "      <th>externalquiz</th>\n",
       "      <th>folder</th>\n",
       "      <th>forumng</th>\n",
       "      <th>...</th>\n",
       "      <th>ouwiki</th>\n",
       "      <th>page</th>\n",
       "      <th>questionnaire</th>\n",
       "      <th>quiz</th>\n",
       "      <th>repeatactivity</th>\n",
       "      <th>resource</th>\n",
       "      <th>sharedsubpage</th>\n",
       "      <th>subpage</th>\n",
       "      <th>url</th>\n",
       "      <th>index_my</th>\n",
       "    </tr>\n",
       "  </thead>\n",
       "  <tbody>\n",
       "    <tr>\n",
       "      <th>35</th>\n",
       "      <td>8462</td>\n",
       "      <td>DDD</td>\n",
       "      <td>2013J</td>\n",
       "      <td>1</td>\n",
       "      <td>0</td>\n",
       "      <td>0.0</td>\n",
       "      <td>0.0</td>\n",
       "      <td>0.0</td>\n",
       "      <td>0.0</td>\n",
       "      <td>9.0</td>\n",
       "      <td>...</td>\n",
       "      <td>0.0</td>\n",
       "      <td>0.0</td>\n",
       "      <td>0.0</td>\n",
       "      <td>0.0</td>\n",
       "      <td>0.0</td>\n",
       "      <td>26.0</td>\n",
       "      <td>0.0</td>\n",
       "      <td>92.0</td>\n",
       "      <td>4.0</td>\n",
       "      <td>1</td>\n",
       "    </tr>\n",
       "    <tr>\n",
       "      <th>36</th>\n",
       "      <td>8462</td>\n",
       "      <td>DDD</td>\n",
       "      <td>2013J</td>\n",
       "      <td>2</td>\n",
       "      <td>0</td>\n",
       "      <td>0.0</td>\n",
       "      <td>0.0</td>\n",
       "      <td>1.0</td>\n",
       "      <td>0.0</td>\n",
       "      <td>0.0</td>\n",
       "      <td>...</td>\n",
       "      <td>0.0</td>\n",
       "      <td>0.0</td>\n",
       "      <td>0.0</td>\n",
       "      <td>0.0</td>\n",
       "      <td>0.0</td>\n",
       "      <td>0.0</td>\n",
       "      <td>0.0</td>\n",
       "      <td>1.0</td>\n",
       "      <td>1.0</td>\n",
       "      <td>1</td>\n",
       "    </tr>\n",
       "    <tr>\n",
       "      <th>37</th>\n",
       "      <td>8462</td>\n",
       "      <td>DDD</td>\n",
       "      <td>2013J</td>\n",
       "      <td>3</td>\n",
       "      <td>0</td>\n",
       "      <td>0.0</td>\n",
       "      <td>0.0</td>\n",
       "      <td>0.0</td>\n",
       "      <td>0.0</td>\n",
       "      <td>0.0</td>\n",
       "      <td>...</td>\n",
       "      <td>0.0</td>\n",
       "      <td>0.0</td>\n",
       "      <td>0.0</td>\n",
       "      <td>0.0</td>\n",
       "      <td>0.0</td>\n",
       "      <td>2.0</td>\n",
       "      <td>0.0</td>\n",
       "      <td>27.0</td>\n",
       "      <td>8.0</td>\n",
       "      <td>1</td>\n",
       "    </tr>\n",
       "    <tr>\n",
       "      <th>38</th>\n",
       "      <td>8462</td>\n",
       "      <td>DDD</td>\n",
       "      <td>2013J</td>\n",
       "      <td>4</td>\n",
       "      <td>0</td>\n",
       "      <td>0.0</td>\n",
       "      <td>0.0</td>\n",
       "      <td>2.0</td>\n",
       "      <td>0.0</td>\n",
       "      <td>0.0</td>\n",
       "      <td>...</td>\n",
       "      <td>0.0</td>\n",
       "      <td>0.0</td>\n",
       "      <td>0.0</td>\n",
       "      <td>0.0</td>\n",
       "      <td>0.0</td>\n",
       "      <td>3.0</td>\n",
       "      <td>0.0</td>\n",
       "      <td>19.0</td>\n",
       "      <td>4.0</td>\n",
       "      <td>1</td>\n",
       "    </tr>\n",
       "    <tr>\n",
       "      <th>39</th>\n",
       "      <td>8462</td>\n",
       "      <td>DDD</td>\n",
       "      <td>2013J</td>\n",
       "      <td>5</td>\n",
       "      <td>0</td>\n",
       "      <td>0.0</td>\n",
       "      <td>0.0</td>\n",
       "      <td>0.0</td>\n",
       "      <td>0.0</td>\n",
       "      <td>0.0</td>\n",
       "      <td>...</td>\n",
       "      <td>0.0</td>\n",
       "      <td>0.0</td>\n",
       "      <td>0.0</td>\n",
       "      <td>0.0</td>\n",
       "      <td>0.0</td>\n",
       "      <td>3.0</td>\n",
       "      <td>0.0</td>\n",
       "      <td>4.0</td>\n",
       "      <td>1.0</td>\n",
       "      <td>1</td>\n",
       "    </tr>\n",
       "    <tr>\n",
       "      <th>40</th>\n",
       "      <td>8462</td>\n",
       "      <td>DDD</td>\n",
       "      <td>2013J</td>\n",
       "      <td>6</td>\n",
       "      <td>0</td>\n",
       "      <td>0.0</td>\n",
       "      <td>0.0</td>\n",
       "      <td>0.0</td>\n",
       "      <td>0.0</td>\n",
       "      <td>9.0</td>\n",
       "      <td>...</td>\n",
       "      <td>17.0</td>\n",
       "      <td>0.0</td>\n",
       "      <td>0.0</td>\n",
       "      <td>0.0</td>\n",
       "      <td>0.0</td>\n",
       "      <td>0.0</td>\n",
       "      <td>0.0</td>\n",
       "      <td>14.0</td>\n",
       "      <td>0.0</td>\n",
       "      <td>1</td>\n",
       "    </tr>\n",
       "    <tr>\n",
       "      <th>41</th>\n",
       "      <td>8462</td>\n",
       "      <td>DDD</td>\n",
       "      <td>2013J</td>\n",
       "      <td>7</td>\n",
       "      <td>0</td>\n",
       "      <td>0.0</td>\n",
       "      <td>0.0</td>\n",
       "      <td>0.0</td>\n",
       "      <td>0.0</td>\n",
       "      <td>0.0</td>\n",
       "      <td>...</td>\n",
       "      <td>0.0</td>\n",
       "      <td>0.0</td>\n",
       "      <td>0.0</td>\n",
       "      <td>0.0</td>\n",
       "      <td>0.0</td>\n",
       "      <td>3.0</td>\n",
       "      <td>0.0</td>\n",
       "      <td>2.0</td>\n",
       "      <td>0.0</td>\n",
       "      <td>1</td>\n",
       "    </tr>\n",
       "    <tr>\n",
       "      <th>42</th>\n",
       "      <td>8462</td>\n",
       "      <td>DDD</td>\n",
       "      <td>2013J</td>\n",
       "      <td>8</td>\n",
       "      <td>0</td>\n",
       "      <td>0.0</td>\n",
       "      <td>0.0</td>\n",
       "      <td>0.0</td>\n",
       "      <td>0.0</td>\n",
       "      <td>0.0</td>\n",
       "      <td>...</td>\n",
       "      <td>0.0</td>\n",
       "      <td>0.0</td>\n",
       "      <td>0.0</td>\n",
       "      <td>0.0</td>\n",
       "      <td>0.0</td>\n",
       "      <td>0.0</td>\n",
       "      <td>0.0</td>\n",
       "      <td>3.0</td>\n",
       "      <td>0.0</td>\n",
       "      <td>1</td>\n",
       "    </tr>\n",
       "    <tr>\n",
       "      <th>43</th>\n",
       "      <td>8462</td>\n",
       "      <td>DDD</td>\n",
       "      <td>2013J</td>\n",
       "      <td>10</td>\n",
       "      <td>0</td>\n",
       "      <td>0.0</td>\n",
       "      <td>0.0</td>\n",
       "      <td>5.0</td>\n",
       "      <td>0.0</td>\n",
       "      <td>0.0</td>\n",
       "      <td>...</td>\n",
       "      <td>0.0</td>\n",
       "      <td>0.0</td>\n",
       "      <td>0.0</td>\n",
       "      <td>0.0</td>\n",
       "      <td>0.0</td>\n",
       "      <td>1.0</td>\n",
       "      <td>0.0</td>\n",
       "      <td>5.0</td>\n",
       "      <td>0.0</td>\n",
       "      <td>1</td>\n",
       "    </tr>\n",
       "    <tr>\n",
       "      <th>44</th>\n",
       "      <td>8462</td>\n",
       "      <td>DDD</td>\n",
       "      <td>2013J</td>\n",
       "      <td>11</td>\n",
       "      <td>0</td>\n",
       "      <td>0.0</td>\n",
       "      <td>0.0</td>\n",
       "      <td>0.0</td>\n",
       "      <td>0.0</td>\n",
       "      <td>0.0</td>\n",
       "      <td>...</td>\n",
       "      <td>0.0</td>\n",
       "      <td>0.0</td>\n",
       "      <td>0.0</td>\n",
       "      <td>0.0</td>\n",
       "      <td>0.0</td>\n",
       "      <td>2.0</td>\n",
       "      <td>0.0</td>\n",
       "      <td>6.0</td>\n",
       "      <td>0.0</td>\n",
       "      <td>1</td>\n",
       "    </tr>\n",
       "    <tr>\n",
       "      <th>45</th>\n",
       "      <td>8462</td>\n",
       "      <td>DDD</td>\n",
       "      <td>2013J</td>\n",
       "      <td>12</td>\n",
       "      <td>0</td>\n",
       "      <td>0.0</td>\n",
       "      <td>0.0</td>\n",
       "      <td>2.0</td>\n",
       "      <td>0.0</td>\n",
       "      <td>0.0</td>\n",
       "      <td>...</td>\n",
       "      <td>0.0</td>\n",
       "      <td>0.0</td>\n",
       "      <td>0.0</td>\n",
       "      <td>0.0</td>\n",
       "      <td>0.0</td>\n",
       "      <td>22.0</td>\n",
       "      <td>0.0</td>\n",
       "      <td>12.0</td>\n",
       "      <td>0.0</td>\n",
       "      <td>1</td>\n",
       "    </tr>\n",
       "    <tr>\n",
       "      <th>46</th>\n",
       "      <td>8462</td>\n",
       "      <td>DDD</td>\n",
       "      <td>2013J</td>\n",
       "      <td>13</td>\n",
       "      <td>0</td>\n",
       "      <td>0.0</td>\n",
       "      <td>0.0</td>\n",
       "      <td>0.0</td>\n",
       "      <td>0.0</td>\n",
       "      <td>1.0</td>\n",
       "      <td>...</td>\n",
       "      <td>0.0</td>\n",
       "      <td>0.0</td>\n",
       "      <td>0.0</td>\n",
       "      <td>0.0</td>\n",
       "      <td>0.0</td>\n",
       "      <td>3.0</td>\n",
       "      <td>0.0</td>\n",
       "      <td>7.0</td>\n",
       "      <td>0.0</td>\n",
       "      <td>1</td>\n",
       "    </tr>\n",
       "    <tr>\n",
       "      <th>47</th>\n",
       "      <td>8462</td>\n",
       "      <td>DDD</td>\n",
       "      <td>2013J</td>\n",
       "      <td>14</td>\n",
       "      <td>0</td>\n",
       "      <td>0.0</td>\n",
       "      <td>0.0</td>\n",
       "      <td>0.0</td>\n",
       "      <td>0.0</td>\n",
       "      <td>0.0</td>\n",
       "      <td>...</td>\n",
       "      <td>0.0</td>\n",
       "      <td>0.0</td>\n",
       "      <td>0.0</td>\n",
       "      <td>0.0</td>\n",
       "      <td>0.0</td>\n",
       "      <td>0.0</td>\n",
       "      <td>0.0</td>\n",
       "      <td>0.0</td>\n",
       "      <td>0.0</td>\n",
       "      <td>1</td>\n",
       "    </tr>\n",
       "    <tr>\n",
       "      <th>48</th>\n",
       "      <td>8462</td>\n",
       "      <td>DDD</td>\n",
       "      <td>2013J</td>\n",
       "      <td>15</td>\n",
       "      <td>0</td>\n",
       "      <td>0.0</td>\n",
       "      <td>0.0</td>\n",
       "      <td>0.0</td>\n",
       "      <td>0.0</td>\n",
       "      <td>0.0</td>\n",
       "      <td>...</td>\n",
       "      <td>0.0</td>\n",
       "      <td>0.0</td>\n",
       "      <td>0.0</td>\n",
       "      <td>0.0</td>\n",
       "      <td>0.0</td>\n",
       "      <td>2.0</td>\n",
       "      <td>0.0</td>\n",
       "      <td>1.0</td>\n",
       "      <td>0.0</td>\n",
       "      <td>1</td>\n",
       "    </tr>\n",
       "    <tr>\n",
       "      <th>49</th>\n",
       "      <td>8462</td>\n",
       "      <td>DDD</td>\n",
       "      <td>2013J</td>\n",
       "      <td>16</td>\n",
       "      <td>0</td>\n",
       "      <td>0.0</td>\n",
       "      <td>0.0</td>\n",
       "      <td>0.0</td>\n",
       "      <td>0.0</td>\n",
       "      <td>0.0</td>\n",
       "      <td>...</td>\n",
       "      <td>0.0</td>\n",
       "      <td>0.0</td>\n",
       "      <td>0.0</td>\n",
       "      <td>0.0</td>\n",
       "      <td>0.0</td>\n",
       "      <td>0.0</td>\n",
       "      <td>0.0</td>\n",
       "      <td>3.0</td>\n",
       "      <td>1.0</td>\n",
       "      <td>1</td>\n",
       "    </tr>\n",
       "    <tr>\n",
       "      <th>50</th>\n",
       "      <td>8462</td>\n",
       "      <td>DDD</td>\n",
       "      <td>2014J</td>\n",
       "      <td>1</td>\n",
       "      <td>0</td>\n",
       "      <td>0.0</td>\n",
       "      <td>0.0</td>\n",
       "      <td>0.0</td>\n",
       "      <td>0.0</td>\n",
       "      <td>2.0</td>\n",
       "      <td>...</td>\n",
       "      <td>0.0</td>\n",
       "      <td>0.0</td>\n",
       "      <td>0.0</td>\n",
       "      <td>0.0</td>\n",
       "      <td>0.0</td>\n",
       "      <td>0.0</td>\n",
       "      <td>0.0</td>\n",
       "      <td>0.0</td>\n",
       "      <td>0.0</td>\n",
       "      <td>2</td>\n",
       "    </tr>\n",
       "    <tr>\n",
       "      <th>51</th>\n",
       "      <td>11391</td>\n",
       "      <td>AAA</td>\n",
       "      <td>2013J</td>\n",
       "      <td>0</td>\n",
       "      <td>1</td>\n",
       "      <td>0.0</td>\n",
       "      <td>0.0</td>\n",
       "      <td>0.0</td>\n",
       "      <td>0.0</td>\n",
       "      <td>18.0</td>\n",
       "      <td>...</td>\n",
       "      <td>0.0</td>\n",
       "      <td>0.0</td>\n",
       "      <td>0.0</td>\n",
       "      <td>0.0</td>\n",
       "      <td>0.0</td>\n",
       "      <td>8.0</td>\n",
       "      <td>0.0</td>\n",
       "      <td>8.0</td>\n",
       "      <td>1.0</td>\n",
       "      <td>3</td>\n",
       "    </tr>\n",
       "    <tr>\n",
       "      <th>52</th>\n",
       "      <td>11391</td>\n",
       "      <td>AAA</td>\n",
       "      <td>2013J</td>\n",
       "      <td>1</td>\n",
       "      <td>1</td>\n",
       "      <td>0.0</td>\n",
       "      <td>0.0</td>\n",
       "      <td>0.0</td>\n",
       "      <td>0.0</td>\n",
       "      <td>0.0</td>\n",
       "      <td>...</td>\n",
       "      <td>0.0</td>\n",
       "      <td>0.0</td>\n",
       "      <td>0.0</td>\n",
       "      <td>0.0</td>\n",
       "      <td>0.0</td>\n",
       "      <td>0.0</td>\n",
       "      <td>0.0</td>\n",
       "      <td>1.0</td>\n",
       "      <td>0.0</td>\n",
       "      <td>3</td>\n",
       "    </tr>\n",
       "    <tr>\n",
       "      <th>53</th>\n",
       "      <td>11391</td>\n",
       "      <td>AAA</td>\n",
       "      <td>2013J</td>\n",
       "      <td>2</td>\n",
       "      <td>1</td>\n",
       "      <td>0.0</td>\n",
       "      <td>0.0</td>\n",
       "      <td>0.0</td>\n",
       "      <td>0.0</td>\n",
       "      <td>35.0</td>\n",
       "      <td>...</td>\n",
       "      <td>0.0</td>\n",
       "      <td>0.0</td>\n",
       "      <td>0.0</td>\n",
       "      <td>0.0</td>\n",
       "      <td>0.0</td>\n",
       "      <td>1.0</td>\n",
       "      <td>0.0</td>\n",
       "      <td>1.0</td>\n",
       "      <td>0.0</td>\n",
       "      <td>3</td>\n",
       "    </tr>\n",
       "    <tr>\n",
       "      <th>54</th>\n",
       "      <td>11391</td>\n",
       "      <td>AAA</td>\n",
       "      <td>2013J</td>\n",
       "      <td>4</td>\n",
       "      <td>1</td>\n",
       "      <td>0.0</td>\n",
       "      <td>0.0</td>\n",
       "      <td>0.0</td>\n",
       "      <td>0.0</td>\n",
       "      <td>2.0</td>\n",
       "      <td>...</td>\n",
       "      <td>0.0</td>\n",
       "      <td>0.0</td>\n",
       "      <td>0.0</td>\n",
       "      <td>0.0</td>\n",
       "      <td>0.0</td>\n",
       "      <td>0.0</td>\n",
       "      <td>0.0</td>\n",
       "      <td>1.0</td>\n",
       "      <td>0.0</td>\n",
       "      <td>3</td>\n",
       "    </tr>\n",
       "  </tbody>\n",
       "</table>\n",
       "<p>20 rows × 26 columns</p>\n",
       "</div>"
      ],
      "text/plain": [
       "activity_type  id_student code_module code_presentation  week  final_result  \\\n",
       "35                   8462         DDD             2013J     1             0   \n",
       "36                   8462         DDD             2013J     2             0   \n",
       "37                   8462         DDD             2013J     3             0   \n",
       "38                   8462         DDD             2013J     4             0   \n",
       "39                   8462         DDD             2013J     5             0   \n",
       "40                   8462         DDD             2013J     6             0   \n",
       "41                   8462         DDD             2013J     7             0   \n",
       "42                   8462         DDD             2013J     8             0   \n",
       "43                   8462         DDD             2013J    10             0   \n",
       "44                   8462         DDD             2013J    11             0   \n",
       "45                   8462         DDD             2013J    12             0   \n",
       "46                   8462         DDD             2013J    13             0   \n",
       "47                   8462         DDD             2013J    14             0   \n",
       "48                   8462         DDD             2013J    15             0   \n",
       "49                   8462         DDD             2013J    16             0   \n",
       "50                   8462         DDD             2014J     1             0   \n",
       "51                  11391         AAA             2013J     0             1   \n",
       "52                  11391         AAA             2013J     1             1   \n",
       "53                  11391         AAA             2013J     2             1   \n",
       "54                  11391         AAA             2013J     4             1   \n",
       "\n",
       "activity_type  dataplus  dualpane  externalquiz  folder  forumng  ...  ouwiki  \\\n",
       "35                  0.0       0.0           0.0     0.0      9.0  ...     0.0   \n",
       "36                  0.0       0.0           1.0     0.0      0.0  ...     0.0   \n",
       "37                  0.0       0.0           0.0     0.0      0.0  ...     0.0   \n",
       "38                  0.0       0.0           2.0     0.0      0.0  ...     0.0   \n",
       "39                  0.0       0.0           0.0     0.0      0.0  ...     0.0   \n",
       "40                  0.0       0.0           0.0     0.0      9.0  ...    17.0   \n",
       "41                  0.0       0.0           0.0     0.0      0.0  ...     0.0   \n",
       "42                  0.0       0.0           0.0     0.0      0.0  ...     0.0   \n",
       "43                  0.0       0.0           5.0     0.0      0.0  ...     0.0   \n",
       "44                  0.0       0.0           0.0     0.0      0.0  ...     0.0   \n",
       "45                  0.0       0.0           2.0     0.0      0.0  ...     0.0   \n",
       "46                  0.0       0.0           0.0     0.0      1.0  ...     0.0   \n",
       "47                  0.0       0.0           0.0     0.0      0.0  ...     0.0   \n",
       "48                  0.0       0.0           0.0     0.0      0.0  ...     0.0   \n",
       "49                  0.0       0.0           0.0     0.0      0.0  ...     0.0   \n",
       "50                  0.0       0.0           0.0     0.0      2.0  ...     0.0   \n",
       "51                  0.0       0.0           0.0     0.0     18.0  ...     0.0   \n",
       "52                  0.0       0.0           0.0     0.0      0.0  ...     0.0   \n",
       "53                  0.0       0.0           0.0     0.0     35.0  ...     0.0   \n",
       "54                  0.0       0.0           0.0     0.0      2.0  ...     0.0   \n",
       "\n",
       "activity_type  page  questionnaire  quiz  repeatactivity  resource  \\\n",
       "35              0.0            0.0   0.0             0.0      26.0   \n",
       "36              0.0            0.0   0.0             0.0       0.0   \n",
       "37              0.0            0.0   0.0             0.0       2.0   \n",
       "38              0.0            0.0   0.0             0.0       3.0   \n",
       "39              0.0            0.0   0.0             0.0       3.0   \n",
       "40              0.0            0.0   0.0             0.0       0.0   \n",
       "41              0.0            0.0   0.0             0.0       3.0   \n",
       "42              0.0            0.0   0.0             0.0       0.0   \n",
       "43              0.0            0.0   0.0             0.0       1.0   \n",
       "44              0.0            0.0   0.0             0.0       2.0   \n",
       "45              0.0            0.0   0.0             0.0      22.0   \n",
       "46              0.0            0.0   0.0             0.0       3.0   \n",
       "47              0.0            0.0   0.0             0.0       0.0   \n",
       "48              0.0            0.0   0.0             0.0       2.0   \n",
       "49              0.0            0.0   0.0             0.0       0.0   \n",
       "50              0.0            0.0   0.0             0.0       0.0   \n",
       "51              0.0            0.0   0.0             0.0       8.0   \n",
       "52              0.0            0.0   0.0             0.0       0.0   \n",
       "53              0.0            0.0   0.0             0.0       1.0   \n",
       "54              0.0            0.0   0.0             0.0       0.0   \n",
       "\n",
       "activity_type  sharedsubpage  subpage  url  index_my  \n",
       "35                       0.0     92.0  4.0         1  \n",
       "36                       0.0      1.0  1.0         1  \n",
       "37                       0.0     27.0  8.0         1  \n",
       "38                       0.0     19.0  4.0         1  \n",
       "39                       0.0      4.0  1.0         1  \n",
       "40                       0.0     14.0  0.0         1  \n",
       "41                       0.0      2.0  0.0         1  \n",
       "42                       0.0      3.0  0.0         1  \n",
       "43                       0.0      5.0  0.0         1  \n",
       "44                       0.0      6.0  0.0         1  \n",
       "45                       0.0     12.0  0.0         1  \n",
       "46                       0.0      7.0  0.0         1  \n",
       "47                       0.0      0.0  0.0         1  \n",
       "48                       0.0      1.0  0.0         1  \n",
       "49                       0.0      3.0  1.0         1  \n",
       "50                       0.0      0.0  0.0         2  \n",
       "51                       0.0      8.0  1.0         3  \n",
       "52                       0.0      1.0  0.0         3  \n",
       "53                       0.0      1.0  0.0         3  \n",
       "54                       0.0      1.0  0.0         3  \n",
       "\n",
       "[20 rows x 26 columns]"
      ]
     },
     "execution_count": 30,
     "metadata": {},
     "output_type": "execute_result"
    }
   ],
   "source": [
    "aggr_data['index_my']=aggr_data.groupby(['id_student','code_module','code_presentation']).ngroup()\n",
    "aggr_data.iloc[35:55]"
   ]
  },
  {
   "cell_type": "markdown",
   "metadata": {},
   "source": [
    "There are such 21915 unique ids created."
   ]
  },
  {
   "cell_type": "code",
   "execution_count": 31,
   "metadata": {},
   "outputs": [
    {
     "data": {
      "text/plain": [
       "21915"
      ]
     },
     "execution_count": 31,
     "metadata": {},
     "output_type": "execute_result"
    }
   ],
   "source": [
    "all_index= aggr_data.index_my.unique()\n",
    "len(all_index)"
   ]
  },
  {
   "cell_type": "markdown",
   "metadata": {},
   "source": [
    "There are some missing weeks of interactions found for the students. It is necessary to append zero clickstreams for these missing weeks so that each student can have exactly 38 weeks of clickstreams."
   ]
  },
  {
   "cell_type": "code",
   "execution_count": 77,
   "metadata": {},
   "outputs": [],
   "source": [
    "# create dataframe for clickstreams of missing weeks\n",
    "df_new=aggr_data.iloc[0:1,:]\n",
    "df_new.drop(0,axis=0,inplace=True)"
   ]
  },
  {
   "cell_type": "code",
   "execution_count": 78,
   "metadata": {},
   "outputs": [],
   "source": [
    "# fill the zero padded clickstreams for missing weeks\n",
    "row_no=0\n",
    "complete_list=list(range(0, 39)) \n",
    "for index_current in all_index:\n",
    "    missingItems = [x for x in complete_list if not x in  list(aggr_data[aggr_data.index_my==index_current].week)]\n",
    "    stu_id= aggr_data[aggr_data.index_my==index_current]['id_student'].unique()[0]\n",
    "    code_module= aggr_data[aggr_data.index_my==index_current]['code_module'].unique()[0]\n",
    "    code_presentation= aggr_data[aggr_data.index_my==index_current]['code_presentation'].unique()[0]\n",
    "    final_result= aggr_data[aggr_data.index_my==index_current]['final_result'].unique()[0]\n",
    "    \n",
    "    for item in missingItems:\n",
    "        df_new=pd.DataFrame(np.insert(df_new.values, row_no, values=[stu_id, code_module,code_presentation,item,final_result,0.0,0.0,0.0,0.0,0.0,0.0,0.0,0.0,0.0,0.0,0.0,0.0,0.0,0.0,0.0,0.0,0.0,0.0,0.0,0.0,index_current], axis=0))\n",
    "        df_new.columns=aggr_data.columns\n",
    "        row_no+1\n",
    "df_new.to_csv('Missing_Weeks_Data_Records.csv')"
   ]
  },
  {
   "cell_type": "code",
   "execution_count": 501,
   "metadata": {},
   "outputs": [],
   "source": [
    "missing_weeks_per_student= pd.read_csv('Missing_Weeks_Data_Records.csv',index_col=0)"
   ]
  },
  {
   "cell_type": "markdown",
   "metadata": {},
   "source": [
    "# Multidimensional Clickstreams Data"
   ]
  },
  {
   "cell_type": "code",
   "execution_count": 465,
   "metadata": {},
   "outputs": [],
   "source": [
    "# combine the missing weeks and the original data to get exactly 38 weeks per student\n",
    "lstm_data =pd.concat([aggr_data, missing_weeks_per_student])"
   ]
  },
  {
   "cell_type": "code",
   "execution_count": 238,
   "metadata": {},
   "outputs": [],
   "source": [
    "# arrange the clickstreams week-wise for each student and their courses\n",
    "lstm_data=lstm_data.sort_values(by=['id_student','code_module','code_presentation','week'])\n",
    "lstm_data.to_csv('LSTM_3D_Data.csv')"
   ]
  },
  {
   "cell_type": "code",
   "execution_count": 32,
   "metadata": {},
   "outputs": [],
   "source": [
    "lstm_data= pd.read_csv('LSTM_3D_Data.csv',index_col=0)"
   ]
  },
  {
   "cell_type": "code",
   "execution_count": 33,
   "metadata": {},
   "outputs": [
    {
     "data": {
      "text/plain": [
       "(854685, 26)"
      ]
     },
     "execution_count": 33,
     "metadata": {},
     "output_type": "execute_result"
    }
   ],
   "source": [
    "lstm_data.shape"
   ]
  },
  {
   "cell_type": "markdown",
   "metadata": {},
   "source": [
    "Check whether the data can be structured correctly to a multidimensional format by examining if (0 - 38) weeks exist for each id."
   ]
  },
  {
   "cell_type": "code",
   "execution_count": 34,
   "metadata": {},
   "outputs": [
    {
     "name": "stdout",
     "output_type": "stream",
     "text": [
      "Data has been correctly generated\n",
      "The LSTM data can be aligned to a multidimensional format\n"
     ]
    }
   ],
   "source": [
    "if (lstm_data.shape[0] /39 ==  len(all_index)):\n",
    "    print(\"Data has been correctly generated\")\n",
    "    print(\"The LSTM data can be aligned to a multidimensional format\")\n",
    "else:\n",
    "    print(\"Data cannot be structured correctly to a multidimensional format\")"
   ]
  },
  {
   "cell_type": "code",
   "execution_count": 35,
   "metadata": {},
   "outputs": [],
   "source": [
    "#extract the target label for the lstm data\n",
    "y=[]\n",
    "all_ind = lstm_data.index_my.unique()\n",
    "for index in all_ind:\n",
    "    y.append(lstm_data[lstm_data.index_my==index]['final_result'].unique()[0])"
   ]
  },
  {
   "cell_type": "markdown",
   "metadata": {},
   "source": [
    "The initial 16500 students are considered in the training set. \n",
    "These students correspond to 16500 * 39 = 643500 rows of the lstm data.\n",
    "\n",
    "\n",
    "The rest 5415 students are part of the test set."
   ]
  },
  {
   "cell_type": "code",
   "execution_count": 36,
   "metadata": {},
   "outputs": [],
   "source": [
    "# extract columns that correspond to the clickstreams across 20 resources\n",
    "X_train = lstm_data.iloc[0:643500,5:25]\n",
    "X_test =  lstm_data.iloc[643500:,5:25]"
   ]
  },
  {
   "cell_type": "markdown",
   "metadata": {},
   "source": [
    "Out of 21915 unique ids the train set consists of 16500 ids and test set has 5415 entries."
   ]
  },
  {
   "cell_type": "code",
   "execution_count": 37,
   "metadata": {},
   "outputs": [],
   "source": [
    "y_train= np.array(y[0:16500])\n",
    "y_test= np.array(y[16500:])"
   ]
  },
  {
   "cell_type": "markdown",
   "metadata": {},
   "source": [
    "The lstm data is shaped into a multidimensional format (student * weeks * resources)"
   ]
  },
  {
   "cell_type": "code",
   "execution_count": 38,
   "metadata": {},
   "outputs": [],
   "source": [
    "X_train_shaped= np.reshape(X_train.values,(16500,39,20))\n",
    "X_test_shaped = np.reshape(X_test.values,(5415,39,20))"
   ]
  },
  {
   "cell_type": "code",
   "execution_count": 520,
   "metadata": {},
   "outputs": [],
   "source": [
    "# week-wise lstm analysis\n",
    "def week_lstm_analysis():\n",
    "    weeks=['05','10','15','20','25']\n",
    "    for week in weeks:\n",
    "        X_train_week = X_train_shaped[:, :int(week), :]\n",
    "        X_test_week  = X_test_shaped[:, :int(week), :]\n",
    "        \n",
    "        model = Sequential()\n",
    "        model.add(LSTM(100,input_shape=(X_train_week.shape[1], X_train_week.shape[2]), return_sequences=True))\n",
    "        model.add(Dropout(0.3))\n",
    "        model.add(LSTM(60,return_sequences=True))\n",
    "        model.add(Dropout(0.3))\n",
    "        model.add(LSTM(30))\n",
    "        model.add(Dense(1, activation='sigmoid'))\n",
    "        model.compile(loss='binary_crossentropy', optimizer='adam', metrics=['accuracy'])\n",
    "        model.optimizer.learning_rate=0.001\n",
    "        model.fit(X_train_week, np.array(y_train), epochs=5, batch_size=64,verbose=0)\n",
    "        \n",
    "        y_pred = model.predict(X_test_week)\n",
    "        y_pred= [1 if y>=0.5 else 0 for y in y_pred]\n",
    "        \n",
    "        print(\"Week\",week,\"Accuracy: %.3f     F-Score:  %.3f\" % (accuracy_score(y_test,y_pred)*100, f1_score(y_test,y_pred)))"
   ]
  },
  {
   "cell_type": "code",
   "execution_count": 521,
   "metadata": {},
   "outputs": [
    {
     "name": "stdout",
     "output_type": "stream",
     "text": [
      "\t\tLSTM Week Wise Analysis\n",
      "\n",
      "Week 05 Accuracy: 77.101     F-Score:  0.853\n",
      "Week 10 Accuracy: 83.472     F-Score:  0.890\n",
      "Week 15 Accuracy: 87.295     F-Score:  0.914\n",
      "Week 20 Accuracy: 91.782     F-Score:  0.943\n",
      "Week 25 Accuracy: 94.903     F-Score:  0.965\n"
     ]
    }
   ],
   "source": [
    "print(\"\\t\\tLSTM Week Wise Analysis\")\n",
    "print()\n",
    "week_lstm_analysis()"
   ]
  },
  {
   "cell_type": "markdown",
   "metadata": {},
   "source": [
    "# Model Prediction Probability over weeks"
   ]
  },
  {
   "cell_type": "markdown",
   "metadata": {},
   "source": [
    "The probabilities predicted by the model over the weeks are analyzed to understand how a student instance is classified."
   ]
  },
  {
   "cell_type": "code",
   "execution_count": 73,
   "metadata": {},
   "outputs": [],
   "source": [
    "#function to observe the probabilities predicted by the LSTM model over the weeks \n",
    "def over_weeks(test_id):\n",
    "    res=[]\n",
    "    weeks=[5,10,15,20,25,30,35,38]\n",
    "    for w in weeks:\n",
    "        n_weeks_to_use = w\n",
    "        X_train_week = X_train_shaped[:, :n_weeks_to_use, :]\n",
    "        X_test_week  = X_test_shaped[:, :n_weeks_to_use, :]\n",
    "        model = Sequential()\n",
    "        model.add(LSTM(100,input_shape=(X_train_week.shape[1], X_train_week.shape[2]), return_sequences=True))\n",
    "        model.add(Dropout(0.3))\n",
    "        model.add(LSTM(60,return_sequences=True))\n",
    "        model.add(Dropout(0.3))\n",
    "        model.add(LSTM(30))\n",
    "        model.add(Dense(1, activation='sigmoid'))\n",
    "        model.compile(loss='binary_crossentropy', optimizer='adam', metrics=['accuracy'])\n",
    "        model.optimizer.learning_rate=0.001\n",
    "        model.fit(X_train_week, np.array(y_train), epochs=5, batch_size=64,verbose=0)\n",
    "        ans=X_test_week[test_id].reshape(1,w,20)\n",
    "        y_prd=model.predict(ans)\n",
    "        res.append(y_prd[0][0])\n",
    "    return res"
   ]
  },
  {
   "cell_type": "markdown",
   "metadata": {},
   "source": [
    "Example of True Negative Case: How the model predicts the pass student correctly."
   ]
  },
  {
   "cell_type": "code",
   "execution_count": 50,
   "metadata": {},
   "outputs": [
    {
     "data": {
      "text/plain": [
       "Text(0.5, 1.0, 'Probability vs Week for LSTM\\nTrue Negative Case')"
      ]
     },
     "execution_count": 50,
     "metadata": {},
     "output_type": "execute_result"
    },
    {
     "data": {
      "image/png": "[encoded data removed]",
      "text/plain": [
       "<Figure size 432x288 with 1 Axes>"
      ]
     },
     "metadata": {
      "needs_background": "light"
     },
     "output_type": "display_data"
    }
   ],
   "source": [
    "weeks=[5,10,15,20,25,30,35,38]\n",
    "res=over_weeks(10)  #student actually passes \n",
    "grph=pd.DataFrame({\"Prediction Probability\":res,\"Week\":weeks})\n",
    "sns.lineplot(data=grph,x=\"Week\",y=\"Prediction Probability\")\n",
    "plt.title('Probability vs Week for LSTM\\nTrue Negative Case')"
   ]
  },
  {
   "cell_type": "markdown",
   "metadata": {},
   "source": [
    "Example of True Positive Case: How the model predicts the withdrawn student correctly."
   ]
  },
  {
   "cell_type": "code",
   "execution_count": 52,
   "metadata": {},
   "outputs": [
    {
     "data": {
      "text/plain": [
       "Text(0.5, 1.0, 'Probability vs Week for LSTM\\nTrue Positive Case')"
      ]
     },
     "execution_count": 52,
     "metadata": {},
     "output_type": "execute_result"
    },
    {
     "data": {
      "image/png": "[encoded data removed]",
      "text/plain": [
       "<Figure size 432x288 with 1 Axes>"
      ]
     },
     "metadata": {
      "needs_background": "light"
     },
     "output_type": "display_data"
    }
   ],
   "source": [
    "weeks=[5,10,15,20,25,30,35,38]\n",
    "res=over_weeks(17)  #student actually withdraws \n",
    "grph=pd.DataFrame({\"Prediction_Probability\":res,\"Week\":weeks})\n",
    "sns.lineplot(data=grph,x=\"Week\",y=\"Prediction_Probability\")\n",
    "plt.title('Probability vs Week for LSTM\\nTrue Positive Case')"
   ]
  },
  {
   "cell_type": "markdown",
   "metadata": {},
   "source": [
    "# Observing the predicted probability over misclassified students by LSTM"
   ]
  },
  {
   "cell_type": "markdown",
   "metadata": {},
   "source": [
    "The false positives and false negatives will be observed to find out how the predicted probability varies over the weeks and the model decision gets changed.\n",
    "Also, it can be observed that the probability seems to oscillate and the model changes its decision towards the wrong class."
   ]
  },
  {
   "cell_type": "code",
   "execution_count": 112,
   "metadata": {},
   "outputs": [
    {
     "data": {
      "text/plain": [
       "1"
      ]
     },
     "execution_count": 112,
     "metadata": {},
     "output_type": "execute_result"
    }
   ],
   "source": [
    "#this student actually passed the course\n",
    "y_test[436]"
   ]
  },
  {
   "cell_type": "code",
   "execution_count": 117,
   "metadata": {},
   "outputs": [
    {
     "data": {
      "text/plain": [
       "Text(0.5, 1.0, 'Probability vs Week for LSTM\\nFalse Positive Case')"
      ]
     },
     "execution_count": 117,
     "metadata": {},
     "output_type": "execute_result"
    },
    {
     "data": {
      "image/png": "[encoded data removed]",
      "text/plain": [
       "<Figure size 432x288 with 1 Axes>"
      ]
     },
     "metadata": {
      "needs_background": "light"
     },
     "output_type": "display_data"
    }
   ],
   "source": [
    "# wrong prediction by LSTM\n",
    "res=over_weeks(436)   \n",
    "grph=pd.DataFrame({\"Prediction_Probability\":res,\"Week\":weeks})\n",
    "sns.lineplot(data=grph,x=\"Week\",y=\"Prediction_Probability\")\n",
    "plt.title('Probability vs Week for LSTM\\nFalse Positive Case')"
   ]
  },
  {
   "cell_type": "code",
   "execution_count": 113,
   "metadata": {},
   "outputs": [
    {
     "data": {
      "text/plain": [
       "0"
      ]
     },
     "execution_count": 113,
     "metadata": {},
     "output_type": "execute_result"
    }
   ],
   "source": [
    "#this student actually withdraws from the course\n",
    "y_test[4814] "
   ]
  },
  {
   "cell_type": "code",
   "execution_count": 97,
   "metadata": {},
   "outputs": [
    {
     "data": {
      "text/plain": [
       "Text(0.5, 1.0, 'Probability vs Week for LSTM\\nFalse Negative Case')"
      ]
     },
     "execution_count": 97,
     "metadata": {},
     "output_type": "execute_result"
    },
    {
     "data": {
      "image/png": "[encoded data removed]",
      "text/plain": [
       "<Figure size 432x288 with 1 Axes>"
      ]
     },
     "metadata": {
      "needs_background": "light"
     },
     "output_type": "display_data"
    }
   ],
   "source": [
    "# wrong prediction by LSTM\n",
    "weeks=[5,10,15,20,25,30,35,38]\n",
    "res=over_weeks(4814)  \n",
    "grph=pd.DataFrame({\"Prediction_Probability\":res,\"Week\":weeks})\n",
    "sns.lineplot(data=grph,x=\"Week\",y=\"Prediction_Probability\")\n",
    "plt.title('Probability vs Week for LSTM\\nFalse Negative Case')"
   ]
  },
  {
   "cell_type": "markdown",
   "metadata": {},
   "source": [
    "# Merge Model "
   ]
  },
  {
   "cell_type": "markdown",
   "metadata": {},
   "source": [
    "The Merge Model will be comprised of the:\n",
    "\n",
    "        1)Feed-Forward Neural Network and the \n",
    "        2)Long Short Term Memory\n",
    "\n",
    "Both these models will handle different data from the OULAD.\n",
    "\n",
    "The demographics will be processed by the Feed-Forward Neural Network and the LSTM will analyze the VLE multidimensional \n",
    "clickstreams data."
   ]
  },
  {
   "cell_type": "code",
   "execution_count": 55,
   "metadata": {},
   "outputs": [],
   "source": [
    "lstm_stu_data =lstm_data[['id_student','code_module','code_presentation']]\n",
    "lstm_stu_data.drop_duplicates(keep='first',inplace=True)"
   ]
  },
  {
   "cell_type": "markdown",
   "metadata": {},
   "source": [
    "Merge the lstm students details with the other demographics to have the data in snyc for both the models."
   ]
  },
  {
   "cell_type": "code",
   "execution_count": 56,
   "metadata": {},
   "outputs": [],
   "source": [
    "lm=pd.merge(lstm_stu_data,students,how='inner',left_on=(\"code_module\",\"code_presentation\",\"id_student\"),right_on=(\"code_module\",\"code_presentation\",\"id_student\"))"
   ]
  },
  {
   "cell_type": "markdown",
   "metadata": {},
   "source": [
    "# Analysis of the Eager students"
   ]
  },
  {
   "cell_type": "markdown",
   "metadata": {},
   "source": [
    "The eager student that access the course before it commences are identified and marked as being Early (binary feature).\n",
    "\n",
    "This binary variable used to identify the eager students will be an input to the Feed Forward Neural Network.\n",
    "\n",
    "Students that have aggregated clickstreams >= 50 in the early weeks are identified as Eager students."
   ]
  },
  {
   "cell_type": "code",
   "execution_count": 57,
   "metadata": {},
   "outputs": [],
   "source": [
    "# threshold is set as 50 for identifying eager students\n",
    "early_week_data=early_week_data[['code_module','code_presentation','id_student','gender','region','highest_education','imd_band','age_band','num_of_prev_attempts','studied_credits','disability','final_result','week','sum_click']]\n",
    "early_week_data.sort_values(by=['id_student','code_module','code_presentation','week'],inplace=True)\n",
    "early_week_data['week']=-1\n",
    "early_week_data.drop_duplicates(keep='first')\n",
    "early_students_dt =early_week_data.groupby(['id_student','code_module','code_presentation','week']).sum_click.sum().reset_index()\n",
    "early_students_dt['is_early']= early_students_dt.sum_click.apply(lambda x: \"Early\" if x>=50 else \"Not Early\")"
   ]
  },
  {
   "cell_type": "code",
   "execution_count": 58,
   "metadata": {},
   "outputs": [],
   "source": [
    "lm.drop(['final_result'],axis=1,inplace=True)\n",
    "early_students_dt.drop(['week','sum_click'],axis=1,inplace=True)\n",
    "\n",
    "merger_data=pd.merge(lm,early_students_dt,how='left',left_on=(\"code_module\",\"code_presentation\",\"id_student\"),right_on=(\"code_module\",\"code_presentation\",\"id_student\"))"
   ]
  },
  {
   "cell_type": "code",
   "execution_count": 59,
   "metadata": {},
   "outputs": [],
   "source": [
    "# the rest students not identified as eager will be assigned as Not Early\n",
    "merger_data.is_early.fillna(\"Not Early\",inplace=True)"
   ]
  },
  {
   "cell_type": "code",
   "execution_count": 60,
   "metadata": {},
   "outputs": [],
   "source": [
    "demo_dt= merger_data.drop(['id_student'],axis=1)"
   ]
  },
  {
   "cell_type": "code",
   "execution_count": 61,
   "metadata": {},
   "outputs": [],
   "source": [
    "demo_dt['code_presentation']=demo_dt.code_presentation.apply(lambda x: str(x)[-1])\n",
    "demo_dt_dummies = pd.get_dummies(demo_dt, columns=['code_module','code_presentation','gender', 'region', 'highest_education','imd_band','age_band','disability','is_early'],drop_first=True)"
   ]
  },
  {
   "cell_type": "code",
   "execution_count": 106,
   "metadata": {},
   "outputs": [
    {
     "data": {
      "image/png": "[encoded data removed]",
      "text/plain": [
       "<Figure size 432x288 with 1 Axes>"
      ]
     },
     "metadata": {
      "needs_background": "light"
     },
     "output_type": "display_data"
    }
   ],
   "source": [
    "#distribution of eager students\n",
    "sns.countplot('is_early',data=demo_dt,order = demo_dt['is_early'].value_counts().index,palette='Set1')\n",
    "plt.ylabel('')\n",
    "plt.xlabel(' ')\n",
    "plt.title('Students count before course commences\\n Early students: clickstreams>=50')\n",
    "plt.tick_params(bottom=False)"
   ]
  },
  {
   "cell_type": "markdown",
   "metadata": {},
   "source": [
    "The importance of is_early feature is checked on predicting the drop-outs.\n",
    "\n",
    "The initial hypothesis is that this feature is an important feature in deciding the output.\n",
    "\n",
    "However, the score of -0.13 suggests that this hypothesis is false as the value is low."
   ]
  },
  {
   "cell_type": "code",
   "execution_count": 107,
   "metadata": {},
   "outputs": [
    {
     "name": "stdout",
     "output_type": "stream",
     "text": [
      "-0.1355996330752412\n"
     ]
    }
   ],
   "source": [
    "x_train_check= demo_dt_dummies.iloc[0:16500,:]\n",
    "x_train_check['target'] = pd.Series(y_train)\n",
    "x_train_check['is_early_Not Early'].corr(x_train_check['target'],method='pearson', min_periods=1)\n"
   ]
  },
  {
   "cell_type": "markdown",
   "metadata": {},
   "source": [
    "# Merge Model using the Functional API in keras."
   ]
  },
  {
   "cell_type": "markdown",
   "metadata": {},
   "source": [
    "The demographics and multidimensional clickstreams inputs are separately initialized for the Feed Forward and LSTM respectively. The add utility in Keras will merge these explicitly defined inputs. There is a single output of the merge model to predicts the dropouts."
   ]
  },
  {
   "cell_type": "code",
   "execution_count": 98,
   "metadata": {},
   "outputs": [],
   "source": [
    "def week_merge_model_analysis():\n",
    "    weeks=['05','10','15','20','25']\n",
    "    for week in weeks:\n",
    "        X_train_week = X_train_shaped[:, :int(week), :]\n",
    "        X_test_week  = X_test_shaped[:, :int(week), :]\n",
    "        x_train_d= demo_dt_dummies.iloc[0:16500,:]\n",
    "        x_test_d= demo_dt_dummies.iloc[16500:,:]\n",
    "        \n",
    "        sc=StandardScaler()\n",
    "        x_train_d=sc.fit_transform(x_train_d)\n",
    "        x_test_d=sc.fit_transform(x_test_d)\n",
    "        \n",
    "        inputs1 = Input(shape=(39,))\n",
    "        fe1 = Dropout(0.2)(inputs1)\n",
    "        fe2 = Dense(100, activation='relu')(fe1)\n",
    "        fe3 = Dense(60, activation='relu')(fe2)\n",
    "        fe4 = Dense(30, activation='relu')(fe3)\n",
    "        inputs2 = Input(shape=(X_train_week.shape[1], X_train_week.shape[2]))\n",
    "        se2 = Dropout(0.2)(inputs2)\n",
    "        se3 = LSTM(100,return_sequences=True)(se2)\n",
    "        se4 = LSTM(60,return_sequences=True)(se3)\n",
    "        se5 = LSTM(30)(se4)\n",
    "        decoder1 = add([fe4, se5])\n",
    "        outputs = Dense(1, activation='sigmoid')(decoder1)\n",
    "        model = Model(inputs=[inputs1, inputs2], outputs=outputs)\n",
    "        \n",
    "        model.compile(loss='binary_crossentropy', optimizer='adam', metrics=['accuracy'])\n",
    "        model.optimizer.learning_rate=0.001\n",
    "        model.fit([x_train_d,X_train_week], np.array(y_train), epochs=5,batch_size=64,verbose=0)\n",
    "\n",
    "        y_pred = model.predict([x_test_d,X_test_week])\n",
    "        y_pred= [1 if y>=0.5 else 0 for y in y_pred]\n",
    "        \n",
    "        print(\"Week\",week,\"Accuracy: %.3f     F-Score:  %.3f\" % (accuracy_score(y_test,y_pred)*100, f1_score(y_test,y_pred)))"
   ]
  },
  {
   "cell_type": "code",
   "execution_count": 99,
   "metadata": {},
   "outputs": [
    {
     "name": "stdout",
     "output_type": "stream",
     "text": [
      "\t\tMerge Model Week Wise Analysis\n",
      "\n",
      "Week 05 Accuracy: 79.280     F-Score:  0.866\n",
      "Week 10 Accuracy: 84.118     F-Score:  0.896\n",
      "Week 15 Accuracy: 87.941     F-Score:  0.918\n",
      "Week 20 Accuracy: 92.004     F-Score:  0.944\n",
      "Week 25 Accuracy: 94.922     F-Score:  0.965\n"
     ]
    }
   ],
   "source": [
    "print(\"\\t\\tMerge Model Week Wise Analysis\")\n",
    "print()\n",
    "week_merge_model_analysis()"
   ]
  },
  {
   "cell_type": "markdown",
   "metadata": {},
   "source": [
    "# Model prediction over the weeks"
   ]
  },
  {
   "cell_type": "markdown",
   "metadata": {},
   "source": [
    "The predicted dropout probabilities for student instances are observed over the weeks"
   ]
  },
  {
   "cell_type": "code",
   "execution_count": 99,
   "metadata": {
    "scrolled": true
   },
   "outputs": [],
   "source": [
    "def over_weeks_merge_performance(test_id):\n",
    "    res=[]\n",
    "    weeks=[5,10,15,20,25,30,35,38]\n",
    "    for week in weeks:\n",
    "        X_train_week = X_train_shaped[:, :week, :]\n",
    "        X_test_week  = X_test_shaped[:, :week, :]\n",
    "        x_train_d=demo_dt_dummies.iloc[0:16500,:]\n",
    "        x_test_d=demo_dt_dummies.iloc[16500:,:]\n",
    "        \n",
    "        sc=StandardScaler()\n",
    "        x_train_d=sc.fit_transform(x_train_d)\n",
    "        x_test_d=sc.fit_transform(x_test_d)\n",
    "        \n",
    "        inputs1 = Input(shape=(39,))\n",
    "        fe1 = Dropout(0.2)(inputs1)\n",
    "        fe2 = Dense(100, activation='relu')(fe1)\n",
    "        fe3 = Dense(60, activation='relu')(fe2)\n",
    "        fe4 = Dense(30, activation='relu')(fe3)\n",
    "        inputs2 = Input(shape=(X_train_week.shape[1], X_train_week.shape[2]))\n",
    "        se2 = Dropout(0.2)(inputs2)\n",
    "        se3 = LSTM(100,return_sequences=True)(se2)\n",
    "        se4 = LSTM(60,return_sequences=True)(se3)\n",
    "        se5 = LSTM(30)(se4)\n",
    "        decoder1 = add([fe4, se5])\n",
    "        outputs = Dense(1, activation='sigmoid')(decoder1)\n",
    "        model = Model(inputs=[inputs1, inputs2], outputs=outputs)\n",
    "        \n",
    "        model.compile(loss='binary_crossentropy', optimizer='adam', metrics=['accuracy'])\n",
    "        model.optimizer.learning_rate=0.001\n",
    "        model.fit([x_train_d,X_train_week], np.array(y_train), epochs=5,batch_size=64,verbose=0)\n",
    "\n",
    "        lstm_inp=X_test_week[test_id].reshape(1,week,20)\n",
    "        demo_inp =x_test_d[test_id].reshape(1,39)\n",
    "       \n",
    "        y_pred = model.predict([demo_inp,lstm_inp])\n",
    "\n",
    "        res.append(y_pred[0][0])\n",
    "    return res"
   ]
  },
  {
   "cell_type": "markdown",
   "metadata": {},
   "source": [
    "# Observing the correct predictions by the Merge Model that were initially misclassified by LSTM"
   ]
  },
  {
   "cell_type": "code",
   "execution_count": 120,
   "metadata": {},
   "outputs": [
    {
     "data": {
      "text/plain": [
       "1"
      ]
     },
     "execution_count": 120,
     "metadata": {},
     "output_type": "execute_result"
    }
   ],
   "source": [
    "#this student actually passed the course\n",
    "y_test[436]"
   ]
  },
  {
   "cell_type": "code",
   "execution_count": 54,
   "metadata": {},
   "outputs": [
    {
     "data": {
      "text/plain": [
       "Text(0.5, 1.0, 'Probability vs Week for LSTM\\nTrue Positive Case')"
      ]
     },
     "execution_count": 54,
     "metadata": {},
     "output_type": "execute_result"
    },
    {
     "data": {
      "image/png": "[encoded data removed]",
      "text/plain": [
       "<Figure size 432x288 with 1 Axes>"
      ]
     },
     "metadata": {
      "needs_background": "light"
     },
     "output_type": "display_data"
    }
   ],
   "source": [
    "#correct prediction by the Merge model\n",
    "res=over_weeks_merge_performance(436) \n",
    "weeks=[5,10,15,20,25,30,35,38]\n",
    "\n",
    "grph=pd.DataFrame({\"Prediction Probability\":res,\"Week\":weeks})\n",
    "sns.lineplot(data=grph,x=\"Week\",y=\"Prediction Probability\")\n",
    "plt.title('Probability vs Week for LSTM\\nTrue Positive Case')"
   ]
  },
  {
   "cell_type": "code",
   "execution_count": 121,
   "metadata": {},
   "outputs": [
    {
     "data": {
      "text/plain": [
       "0"
      ]
     },
     "execution_count": 121,
     "metadata": {},
     "output_type": "execute_result"
    }
   ],
   "source": [
    "#this student actually withdraws from the course\n",
    "y_test[4814]"
   ]
  },
  {
   "cell_type": "code",
   "execution_count": 104,
   "metadata": {},
   "outputs": [
    {
     "data": {
      "text/plain": [
       "Text(0.5, 1.0, 'Probability vs Week for LSTM\\nTrue Positive Case')"
      ]
     },
     "execution_count": 104,
     "metadata": {},
     "output_type": "execute_result"
    },
    {
     "data": {
      "image/png": "[encoded data removed]",
      "text/plain": [
       "<Figure size 432x288 with 1 Axes>"
      ]
     },
     "metadata": {
      "needs_background": "light"
     },
     "output_type": "display_data"
    }
   ],
   "source": [
    "#correct prediction by the merge model\n",
    "res=over_weeks_merge_performance(4814)   \n",
    "grph=pd.DataFrame({\"Prediction Probability\":res,\"Week\":weeks})\n",
    "sns.lineplot(data=grph,x=\"Week\",y=\"Prediction Probability\") \n",
    "plt.title('Probability vs Week for LSTM\\nTrue Positive Case')"
   ]
  },
  {
   "cell_type": "markdown",
   "metadata": {},
   "source": [
    "# Flask Demo: Virtual Learning Classification Application"
   ]
  },
  {
   "cell_type": "code",
   "execution_count": 17,
   "metadata": {},
   "outputs": [
    {
     "name": "stdout",
     "output_type": "stream",
     "text": [
      " * Serving Flask app \"__main__\" (lazy loading)\n",
      " * Environment: production\n",
      "   WARNING: This is a development server. Do not use it in a production deployment.\n",
      "   Use a production WSGI server instead.\n",
      " * Debug mode: off\n"
     ]
    },
    {
     "name": "stderr",
     "output_type": "stream",
     "text": [
      " * Running on http://localhost:9177/ (Press CTRL+C to quit)\n",
      "127.0.0.1 - - [23/Jul/2020 13:45:38] \"\u001b[37mGET / HTTP/1.1\u001b[0m\" 200 -\n",
      "127.0.0.1 - - [23/Jul/2020 13:45:47] \"\u001b[37mGET / HTTP/1.1\u001b[0m\" 200 -\n",
      "127.0.0.1 - - [23/Jul/2020 13:46:01] \"\u001b[37mPOST / HTTP/1.1\u001b[0m\" 200 -\n",
      "127.0.0.1 - - [23/Jul/2020 13:46:07] \"\u001b[37mGET / HTTP/1.1\u001b[0m\" 200 -\n"
     ]
    }
   ],
   "source": [
    "from flask import Flask\n",
    "from flask import render_template,request\n",
    "StudentApp = Flask(__name__)\n",
    "\n",
    "@StudentApp.route('/')\n",
    "def student_form():\n",
    "    return render_template('index.html')\n",
    "\n",
    "@StudentApp.route('/', methods=['POST'])\n",
    "def student_form_post():\n",
    "    if(request.form['S_ID']):     \n",
    "        student_id = request.form['S_ID']\n",
    "        demo_details,mod_res=give_result(student_id)\n",
    "        return render_template('studentDataDemo.html', demo_details=demo_details,mod_res=mod_res,no=len(mod_res))\n",
    "    \n",
    "if __name__ == '__main__':\n",
    "    StudentApp.run(host='localhost', port=9177)"
   ]
  },
  {
   "cell_type": "code",
   "execution_count": 12,
   "metadata": {},
   "outputs": [],
   "source": [
    "import pickle\n",
    "pkl_filename = \"pickle_model.pkl\"\n",
    "map_ans={1:\"Pass\",0:\"Withdraw\"}\n",
    "\n",
    "with open(pkl_filename, 'rb') as f:\n",
    "    pickle_model = pickle.load(f)\n",
    "    \n",
    "def give_result(sid):\n",
    "    df = pd.get_dummies(students, columns=['code_module','code_presentation','gender', 'region', 'highest_education','imd_band','age_band','disability'],drop_first=True)\n",
    "    df=df[df.id_student==int(sid)]\n",
    "    stud=students[students.id_student==int(sid)]\n",
    "    code_modules =stud.code_module.values\n",
    "    code_presentations=stud.code_presentation.values\n",
    "    df=df.drop(['id_student','final_result'],axis=1)\n",
    "    s=stud[['id_student','gender','region','highest_education','imd_band','age_band','disability']].iloc[0]\n",
    "    demo_details={}\n",
    "    for k in s.index:\n",
    "        demo_details[k]=s[k]\n",
    "    \n",
    "    Ypredict = pickle_model.predict(df)\n",
    "    mod_res=[]\n",
    "    for i in range(0,len(Ypredict)):\n",
    "        mod_res.append([code_modules[i],code_presentations[i],map_ans[Ypredict[i]]])\n",
    "      \n",
    "    return demo_details,mod_res"
   ]
  }
 ],
 "metadata": {
  "kernelspec": {
   "display_name": "Python 3",
   "language": "python",
   "name": "python3"
  },
  "language_info": {
   "codemirror_mode": {
    "name": "ipython",
    "version": 3
   },
   "file_extension": ".py",
   "mimetype": "text/x-python",
   "name": "python",
   "nbconvert_exporter": "python",
   "pygments_lexer": "ipython3",
   "version": "3.7.3"
  }
 },
 "nbformat": 4,
 "nbformat_minor": 4
}
